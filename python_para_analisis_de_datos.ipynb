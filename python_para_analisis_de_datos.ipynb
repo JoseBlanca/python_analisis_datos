{
 "cells": [
  {
   "cell_type": "markdown",
   "metadata": {},
   "source": [
    "# Curso de análisis de datos en Python\n",
    "\n",
    "## Ejemplos\n",
    "\n",
    "  - [Estadísitca básica](ejemplos/estadistica_basica.ipynb)\n",
    "  - [Kmeans](ejemplos/plot_kmeans_assumptions.ipynb)\n",
    "  - [Overfitting](ejemplos/plot_underfitting_overfitting.ipynb)\n",
    "\n",
    "## Introducción a Python\n",
    "\n",
    "  - [Introducción a Python](python/introduccion_a_python.ipynb)\n",
    "  - [Tipos y variables](python/tipos_y_variables.ipynb)\n",
    "  - [Cadenas de texto](python/cadenas_de_texto.ipynb)\n",
    "  - [Booleanos](python/booleanos.ipynb)\n",
    "  - [Control de flujo](python/control_de_flujo.ipynb)\n",
    "  - [Bloques e indentación](python/bloques_e_indentacion.ipynb)\n",
    "  - [Listas y secuencias](python/secuencias.ipynb)\n",
    "  - [Diccionarios](python/diccionarios.ipynb)\n",
    "  - [Sets](python/sets.ipynb)\n",
    "  - [Funciones](python/funciones.ipynb)\n",
    "  - [Iteradores](python/iteradores.ipynb)\n",
    "  - [Clases y programación orientada a objetos](python/clases_y_objetos.ipynb)\n",
    "  - [Modulos](python/modulos.ipynb)"
   ]
  },
  {
   "cell_type": "code",
   "execution_count": null,
   "metadata": {},
   "outputs": [],
   "source": []
  }
 ],
 "metadata": {
  "kernelspec": {
   "display_name": "Python 3",
   "language": "python",
   "name": "python3"
  },
  "language_info": {
   "codemirror_mode": {
    "name": "ipython",
    "version": 3
   },
   "file_extension": ".py",
   "mimetype": "text/x-python",
   "name": "python",
   "nbconvert_exporter": "python",
   "pygments_lexer": "ipython3",
   "version": "3.5.1+"
  }
 },
 "nbformat": 4,
 "nbformat_minor": 2
}
