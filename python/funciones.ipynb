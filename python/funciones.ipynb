{
 "cells": [
  {
   "cell_type": "markdown",
   "metadata": {},
   "source": [
    "# Funciones\n",
    "\n",
    "Los lenguajes de programación [procedimental](https://es.wikipedia.org/wiki/Programaci%C3%B3n_por_procedimientos) permiten estructurar el código mediante la creación de bloques de código denominados funciones (también denominados subrutinas o procedimientos).\n",
    "\n",
    "Las funcionen suelen utilizarse con dos objetivos principales:\n",
    "\n",
    "  - Evitar la duplicación del código. Si en un programa hay dos secciones que repiten el mismo código podemos crear una función que realice esa tarea y llamarla desde ambos lugares.\n",
    "  - Encapsular una funcionalidad. Por ejemplo, si tenemos una sección de un programa que calcula la serie de Fibonacci, incluso aunque la llamemos una sola vez, quedará más claro el programa si aislamos, encapsulamos, ese código dentro de una función.\n",
    "\n",
    "## Definición\n",
    "\n",
    "En Python las funciones se definen con la sentencia def."
   ]
  },
  {
   "cell_type": "code",
   "execution_count": 3,
   "metadata": {},
   "outputs": [
    {
     "name": "stdout",
     "output_type": "stream",
     "text": [
      "Hola\n"
     ]
    }
   ],
   "source": [
    "def nombre_funcion(saludo):\n",
    "    print(saludo)\n",
    "    \n",
    "nombre_funcion('Hola')\n"
   ]
  },
  {
   "cell_type": "markdown",
   "metadata": {},
   "source": [
    "## return\n",
    "\n",
    "Las funciones pueden devolver valores utilizando la sentencia return."
   ]
  },
  {
   "cell_type": "code",
   "execution_count": 4,
   "metadata": {},
   "outputs": [
    {
     "data": {
      "text/plain": [
       "2"
      ]
     },
     "execution_count": 4,
     "metadata": {},
     "output_type": "execute_result"
    }
   ],
   "source": [
    "def suma(numero1, numero2):\n",
    "    suma = numero1 + numero2\n",
    "    return suma\n",
    "    \n",
    "suma(1, 1)"
   ]
  },
  {
   "cell_type": "markdown",
   "metadata": {},
   "source": [
    "return puede devolver varios valores."
   ]
  },
  {
   "cell_type": "code",
   "execution_count": 6,
   "metadata": {},
   "outputs": [
    {
     "name": "stdout",
     "output_type": "stream",
     "text": [
      "2 4\n"
     ]
    }
   ],
   "source": [
    "def dobla_el_rectangulo(lado1, lado2):\n",
    "    return lado1 * 2, lado2 * 2\n",
    "\n",
    "lado1, lado2 = dobla_el_rectangulo(1, 2)\n",
    "print(lado1, lado2)"
   ]
  },
  {
   "cell_type": "markdown",
   "metadata": {},
   "source": [
    "En el caso de devolver varios valores implícitamente lo que está haciendo la función es devolver una tupla."
   ]
  },
  {
   "cell_type": "code",
   "execution_count": 7,
   "metadata": {},
   "outputs": [
    {
     "name": "stdout",
     "output_type": "stream",
     "text": [
      "(4, 6)\n",
      "4 6\n"
     ]
    }
   ],
   "source": [
    "resultado = dobla_el_rectangulo(2, 3)\n",
    "print(resultado)\n",
    "lado1, lado2 = resultado\n",
    "print(lado1, lado2)"
   ]
  },
  {
   "cell_type": "markdown",
   "metadata": {},
   "source": [
    "Cuando una función no termina sin un return devolverá None."
   ]
  },
  {
   "cell_type": "code",
   "execution_count": 8,
   "metadata": {},
   "outputs": [
    {
     "name": "stdout",
     "output_type": "stream",
     "text": [
      "hola\n",
      "None\n"
     ]
    }
   ],
   "source": [
    "def saluda(saludo):\n",
    "    print(saludo)\n",
    "    \n",
    "resultado = saluda('hola')\n",
    "print(resultado)"
   ]
  },
  {
   "cell_type": "markdown",
   "metadata": {},
   "source": [
    "## Ámbito de las variables\n",
    "\n",
    "El uso de las variables está restringido a ciertas partes de el programa, su ámbito y las funciones son uno de los ámbitos en los que las variables están definidas.\n",
    "Una variable definida dentro de una función no está disponible fuera de ella, es local de esa función."
   ]
  },
  {
   "cell_type": "code",
   "execution_count": 11,
   "metadata": {},
   "outputs": [
    {
     "name": "stdout",
     "output_type": "stream",
     "text": [
      "3\n"
     ]
    },
    {
     "ename": "NameError",
     "evalue": "name 'total' is not defined",
     "output_type": "error",
     "traceback": [
      "\u001b[0;31m---------------------------------------------------------------------------\u001b[0m",
      "\u001b[0;31mNameError\u001b[0m                                 Traceback (most recent call last)",
      "\u001b[0;32m<ipython-input-11-ee78a795f21e>\u001b[0m in \u001b[0;36m<module>\u001b[0;34m()\u001b[0m\n\u001b[1;32m      4\u001b[0m     \u001b[0;32mreturn\u001b[0m \u001b[0mtotal\u001b[0m\u001b[0;34m\u001b[0m\u001b[0m\n\u001b[1;32m      5\u001b[0m \u001b[0msuma\u001b[0m\u001b[0;34m(\u001b[0m\u001b[0;36m1\u001b[0m\u001b[0;34m,\u001b[0m \u001b[0;36m2\u001b[0m\u001b[0;34m)\u001b[0m\u001b[0;34m\u001b[0m\u001b[0m\n\u001b[0;32m----> 6\u001b[0;31m \u001b[0mprint\u001b[0m\u001b[0;34m(\u001b[0m\u001b[0mtotal\u001b[0m\u001b[0;34m)\u001b[0m\u001b[0;34m\u001b[0m\u001b[0m\n\u001b[0m",
      "\u001b[0;31mNameError\u001b[0m: name 'total' is not defined"
     ]
    }
   ],
   "source": [
    "def suma(num1, num2):\n",
    "    total = num1 + num2\n",
    "    print(total)\n",
    "    return total\n",
    "suma(1, 2)\n",
    "print(total)"
   ]
  },
  {
   "cell_type": "markdown",
   "metadata": {},
   "source": [
    "También se pueden definir funciones globales fuera de las funciones. Estas variables estarán disponibles para ser leídas dentro de cualquier función."
   ]
  },
  {
   "cell_type": "code",
   "execution_count": 12,
   "metadata": {},
   "outputs": [
    {
     "name": "stdout",
     "output_type": "stream",
     "text": [
      "cuidado con las variables globales\n"
     ]
    }
   ],
   "source": [
    "VARIABLE_GLOBAL = 'cuidado con las variables globales'\n",
    "def saluda():\n",
    "    print(VARIABLE_GLOBAL)\n",
    "saluda()"
   ]
  },
  {
   "cell_type": "markdown",
   "metadata": {},
   "source": [
    "Las variables globales suelen escribirse en letras mayúsculas.\n",
    "\n",
    "Es una mala práctica intentar modificar una variable global dentro de una función.\n",
    "Sólo deberíamos modificar una variable cuando se la hemos pasado a la función o cuando se ha creado localmente.\n",
    "Modificar una variable global puede causar fallos de programación difíciles de detectar.\n",
    "Además, podemos tener problemas con las variables globales que no sean de solo lectura si programamos utilizando threads."
   ]
  },
  {
   "cell_type": "markdown",
   "metadata": {},
   "source": [
    "## Argumentos con valores por defecto\n",
    "\n",
    "En Python podemos asignar valores por defecto a los argumentos que pasamos a una función.\n",
    "Estos argumentos pasan a ser opcionales."
   ]
  },
  {
   "cell_type": "code",
   "execution_count": 13,
   "metadata": {},
   "outputs": [
    {
     "name": "stdout",
     "output_type": "stream",
     "text": [
      "Hola\n",
      "Adiós\n"
     ]
    }
   ],
   "source": [
    "def saluda(saludo='Hola'):\n",
    "    print(saludo)\n",
    "saluda()\n",
    "saluda('Adiós')"
   ]
  },
  {
   "cell_type": "markdown",
   "metadata": {},
   "source": [
    "## Argumentos por clave (keyword arguments)\n",
    "\n",
    "Las llamadas a las funciones en Python admiten argumentos pasados según el orden en el que se escriben en la llamada o según su nombre."
   ]
  },
  {
   "cell_type": "code",
   "execution_count": 15,
   "metadata": {},
   "outputs": [
    {
     "name": "stdout",
     "output_type": "stream",
     "text": [
      "HolaHolaHola\n"
     ]
    }
   ],
   "source": [
    "def saluda_mucho(saludo, veces):\n",
    "    print(saludo * veces)\n",
    "saluda_mucho('Hola', 3)"
   ]
  },
  {
   "cell_type": "code",
   "execution_count": 16,
   "metadata": {},
   "outputs": [
    {
     "name": "stdout",
     "output_type": "stream",
     "text": [
      "HolaHolaHola\n"
     ]
    }
   ],
   "source": [
    "saluda_mucho(veces=3, saludo='Hola')"
   ]
  },
  {
   "cell_type": "markdown",
   "metadata": {},
   "source": [
    "Las llamadas a las funciones admiten muchas más posibilidades que siendo este un tutorial de introducción ignoraremos."
   ]
  },
  {
   "cell_type": "markdown",
   "metadata": {},
   "source": [
    "## Documentación\n",
    "\n",
    "Si deseamos documentar una función podemos hacerlo incluyendo una cadena de texto como su primera línea."
   ]
  },
  {
   "cell_type": "code",
   "execution_count": 1,
   "metadata": {},
   "outputs": [
    {
     "name": "stdout",
     "output_type": "stream",
     "text": [
      "Help on function saluda in module __main__:\n",
      "\n",
      "saluda(saludo)\n",
      "    Esta función saluda\n",
      "\n"
     ]
    }
   ],
   "source": [
    "def saluda(saludo):\n",
    "    '''Esta función saluda'''\n",
    "    print(saludo)\n",
    "\n",
    "help(saluda)"
   ]
  },
  {
   "cell_type": "markdown",
   "metadata": {},
   "source": [
    "## lambda\n",
    "\n",
    "En Python podemos crear funciones anónimas utilizando la expresión lambda."
   ]
  },
  {
   "cell_type": "code",
   "execution_count": 6,
   "metadata": {},
   "outputs": [
    {
     "name": "stdout",
     "output_type": "stream",
     "text": [
      "[0, 1, 4, 9, 16, 25, 36, 49, 64, 81]\n"
     ]
    }
   ],
   "source": [
    "numeros = range(10)\n",
    "cuadrados = list(map(lambda x: x**2, numeros))\n",
    "print(cuadrados)"
   ]
  },
  {
   "cell_type": "markdown",
   "metadata": {},
   "source": [
    "lamba permite crear funciones tal y como nos permite crearlas def. El código anterior se podría haber escrito utilizando def, pero si la función es pequeña y sólo se va a utilizar en un lugar a veces se utiliza lambda."
   ]
  },
  {
   "cell_type": "code",
   "execution_count": 7,
   "metadata": {},
   "outputs": [
    {
     "name": "stdout",
     "output_type": "stream",
     "text": [
      "[0, 1, 4, 9, 16, 25, 36, 49, 64, 81]\n"
     ]
    }
   ],
   "source": [
    "def eleva_al_cuadrado(numero):\n",
    "    return numero**2\n",
    "\n",
    "cuadrados = list(map(eleva_al_cuadrado, numeros))\n",
    "print(cuadrados)"
   ]
  },
  {
   "cell_type": "markdown",
   "metadata": {},
   "source": [
    "lamba permite incluir una sola instrucción y no tendrá un return, se devuelve el resultado de la instrucción."
   ]
  },
  {
   "cell_type": "markdown",
   "metadata": {},
   "source": [
    "## Pasando argumentos por valor, referencia y por asignación\n",
    "\n",
    "Dado que las funciones definen un ámbito si queremos pasarles un objeto utilizando uno de los argumentos de la función debemos decidir cómo exactamente se pasa este objeto ¿se hace una copia y se le pasa, nos referimos al mismo objeto?\n",
    "Distintos lenguajes de programación, cuando hacen una llamada a una función, pasan los objetos a la función de distintos modos:\n",
    "\n",
    "  - [Por valor](https://en.wikipedia.org/wiki/Evaluation_strategy#Call_by_value). Se hace una copia del objeto y este nuevo objeto copiado es asignado a la variable definida dentro del ámbito de la función. En este caso si modificamos la variable definida dentro de la función la de fuera no se verá alterada ya que es sólo una copia de la de fuera.\n",
    "  - [Por referencia](https://en.wikipedia.org/wiki/Evaluation_strategy#Call_by_reference). La variable es un puntero a la dirección de la memoria que ocupa el objeto. La nueva variable creada dentro de la función es otro puntero a la misma posición de la memoria. En este caso si modificamos la variable dentro de la función la de fuera también se verá alterada puesto que ambos punteros, el de dentro y el de fuera, apuntan a la misma posición de la memoria y, por lo tanto, al mismo objeto.\n",
    "  - Por asignación (también llamada por [compartición](https://en.wikipedia.org/wiki/Evaluation_strategy#Call_by_sharing)). La variable es una etiqueta que se le asigna a un objeto. Cuando se crea la variable dentro de la función es otra etiqueta al mismo objeto. En este caso si asignamos la variable a un nuevo objeto ni la variable externa a la función, ni el objeto al que se refería se verán afectados.\n",
    "  \n",
    "En C y C++ se pueden pasar argumentos por valor o por referencia y, sin embargo, en Python se hace por asignación.\n",
    "En la wikipedia hay una introducción más teórica a la [evaluación de los argumentos](https://en.wikipedia.org/wiki/Evaluation_strategy) y en la documentación de Python hay información extra sobre cómo pasar variables [por referencia](https://docs.python.org/3/faq/programming.html#how-do-i-write-a-function-with-output-parameters-call-by-reference).\n",
    "\n",
    "Estas distintas estrategias tienen profundas consecuencias en el comportamiento de los programas en los distintos lenguajes de programación y es muy importante entender qué estamos haciendo exactamente cuando pasamos un objeto a una función.\n",
    "Si no lo tenemos claro podemos enfrertarnos a comportamientos que nos parecerán paradójicos.\n",
    "Veamos un ejemplo en el que la función comparte el mismo objeto con quien la llama y lo modifica."
   ]
  },
  {
   "cell_type": "code",
   "execution_count": 3,
   "metadata": {},
   "outputs": [
    {
     "name": "stdout",
     "output_type": "stream",
     "text": [
      "[2, 3]\n",
      "[4, 9]\n"
     ]
    }
   ],
   "source": [
    "def eleva_al_cuadrado(numeros):\n",
    "    for idx, numero in enumerate(numeros):\n",
    "        numeros[idx] = numero ** 2\n",
    "\n",
    "algunos_numeros = [2, 3]\n",
    "print(algunos_numeros)\n",
    "eleva_al_cuadrado(algunos_numeros)\n",
    "print(algunos_numeros)"
   ]
  },
  {
   "cell_type": "markdown",
   "metadata": {},
   "source": [
    "Sin embargo, también podemos escribir la función para que no altere la lista original."
   ]
  },
  {
   "cell_type": "code",
   "execution_count": 4,
   "metadata": {},
   "outputs": [
    {
     "name": "stdout",
     "output_type": "stream",
     "text": [
      "[2, 3]\n",
      "[2, 3]\n",
      "[4, 9]\n"
     ]
    }
   ],
   "source": [
    "def eleva_al_cuadrado(numeros):\n",
    "    numeros_al_cuadrado = []\n",
    "    for idx, numero in enumerate(numeros):\n",
    "        numeros_al_cuadrado.append(numero ** 2)\n",
    "    return numeros_al_cuadrado\n",
    "\n",
    "algunos_numeros = [2, 3]\n",
    "print(algunos_numeros)\n",
    "numeros_al_cuadrado = eleva_al_cuadrado(algunos_numeros)\n",
    "print(algunos_numeros)\n",
    "print(numeros_al_cuadrado)"
   ]
  },
  {
   "cell_type": "markdown",
   "metadata": {},
   "source": [
    "Este comportamiento no será un problema si los objetos son inumtables, como las cadenas de texto o las tuplas porque la función no podrá modificarlos.\n",
    "En general es una mala idea que la función modifique los parámetros que se le pasan porque quien se los pasa no tiene por qué tener esta modificación en cuenta.\n",
    "Evitaremos muchos errores inesperados si nos exigimos no modificar nunca los objetos que se pasan a una función.\n",
    "En algunos casos, por motivos de eficiencia, será necesario hacerlo, pero deberíamos avisar al usuario de la función de ese comportamiento para que lo tenga en cuenta. Pero recuerda que [la optimización prematura es el origen de muchos males](https://en.wikiquote.org/wiki/Donald_Knuth#Computer_Programming_as_an_Art_(1974)) y, por lo tanto, debes evitarla."
   ]
  }
 ],
 "metadata": {
  "kernelspec": {
   "display_name": "Python 3",
   "language": "python",
   "name": "python3"
  },
  "language_info": {
   "codemirror_mode": {
    "name": "ipython",
    "version": 3
   },
   "file_extension": ".py",
   "mimetype": "text/x-python",
   "name": "python",
   "nbconvert_exporter": "python",
   "pygments_lexer": "ipython3",
   "version": "3.5.1+"
  }
 },
 "nbformat": 4,
 "nbformat_minor": 2
}
