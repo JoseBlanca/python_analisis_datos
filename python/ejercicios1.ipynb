{
 "cells": [
  {
   "cell_type": "markdown",
   "metadata": {},
   "source": [
    "# Ejercicios"
   ]
  },
  {
   "cell_type": "markdown",
   "metadata": {},
   "source": [
    "1. Escribe un programa que pida un radio y calcule el área de un círculo.\n",
    "(Para que el usuario pueda introducir la variable utiliza [input](https://docs.python.org/3/library/functions.html#input))"
   ]
  },
  {
   "cell_type": "markdown",
   "metadata": {},
   "source": [
    "2. Escribe un programa que pida el nombre el apellido del usuario y haz que los escriba en orden reverso y separados por un espacio."
   ]
  },
  {
   "cell_type": "markdown",
   "metadata": {},
   "source": [
    "3. Escribe un programa que pida una lista de números separados por comas al usuario y haz que devuelva la suma, el máximo y el mínimo."
   ]
  },
  {
   "cell_type": "markdown",
   "metadata": {},
   "source": [
    "4. Escribe un progama que pida un número (n) que que devuelva el resultado de la operación n + nn + nnn. Ejemplo, 5, resultado 615."
   ]
  },
  {
   "cell_type": "markdown",
   "metadata": {},
   "source": [
    "5. Escribe un programa que compruebe si un número introducido por el usuario es menor de 100, está entre 100 y 1000 o es mayor de 1000."
   ]
  },
  {
   "cell_type": "markdown",
   "metadata": {},
   "source": [
    "6. Escribe un programa que compruebe si un número es par o impar."
   ]
  },
  {
   "cell_type": "markdown",
   "metadata": {},
   "source": [
    "7. Escribe un programa que compruebe si la letra introducida por el usuario es una vocal o una consonante."
   ]
  },
  {
   "cell_type": "markdown",
   "metadata": {},
   "source": [
    "8. Escribe un programa que sume los primeros n enteros."
   ]
  },
  {
   "cell_type": "markdown",
   "metadata": {},
   "source": [
    "9. Escribe un programa que sume todos los dígitos de un número."
   ]
  },
  {
   "cell_type": "markdown",
   "metadata": {},
   "source": [
    "10. Escribe un programa que escriba los números ASCII para todos los carácteres de una cadena."
   ]
  },
  {
   "cell_type": "markdown",
   "metadata": {},
   "source": [
    "Algunas listas de ejercicios adicionales:\n",
    "\n",
    " * [w3resource](https://www.w3resource.com/python-exercises/python-basic-exercises.php)\n",
    " * [Practice Python](https://www.practicepython.org/)\n",
    " * [Hacker Rank](https://www.hackerrank.com/domains/python)\n",
    " * [CodingBat](https://codingbat.com/python)"
   ]
  },
  {
   "cell_type": "code",
   "execution_count": null,
   "metadata": {},
   "outputs": [],
   "source": []
  }
 ],
 "metadata": {
  "kernelspec": {
   "display_name": "Python 3",
   "language": "python",
   "name": "python3"
  },
  "language_info": {
   "codemirror_mode": {
    "name": "ipython",
    "version": 3
   },
   "file_extension": ".py",
   "mimetype": "text/x-python",
   "name": "python",
   "nbconvert_exporter": "python",
   "pygments_lexer": "ipython3",
   "version": "3.7.2+"
  }
 },
 "nbformat": 4,
 "nbformat_minor": 2
}
