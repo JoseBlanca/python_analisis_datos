{
 "cells": [
  {
   "cell_type": "markdown",
   "metadata": {},
   "source": [
    "# Excepciones\n",
    "\n",
    "Durante la ejecución del código pueden generarse errores, estos errores se denominan [excepciones](https://docs.python.org/3/tutorial/errors.html).\n",
    "\n",
    "Un ejemplo de excepción es la generada al dividir por cero."
   ]
  },
  {
   "cell_type": "code",
   "execution_count": 1,
   "metadata": {},
   "outputs": [
    {
     "ename": "ZeroDivisionError",
     "evalue": "division by zero",
     "output_type": "error",
     "traceback": [
      "\u001b[0;31m---------------------------------------------------------------------------\u001b[0m",
      "\u001b[0;31mZeroDivisionError\u001b[0m                         Traceback (most recent call last)",
      "\u001b[0;32m<ipython-input-1-bc757c3fda29>\u001b[0m in \u001b[0;36m<module>\u001b[0;34m()\u001b[0m\n\u001b[0;32m----> 1\u001b[0;31m \u001b[0;36m1\u001b[0m \u001b[0;34m/\u001b[0m \u001b[0;36m0\u001b[0m\u001b[0;34m\u001b[0m\u001b[0m\n\u001b[0m",
      "\u001b[0;31mZeroDivisionError\u001b[0m: division by zero"
     ]
    }
   ],
   "source": [
    "1 / 0"
   ]
  },
  {
   "cell_type": "markdown",
   "metadata": {},
   "source": [
    "Si la excepción no es controlada el programa se abortará y mostrará el mensaje de error correspondiente."
   ]
  },
  {
   "cell_type": "markdown",
   "metadata": {},
   "source": [
    "## Tipos de excepciones comunes\n",
    "\n",
    "Para ayudarnos a clasificar las excepciones según el tipo de error que las ha originado Python tiene [excepciones de distintos tipos](https://docs.python.org/3/library/exceptions.html#bltin-exceptions).\n",
    "\n",
    "Algunos de los tipos de excepciones más usuales son:\n",
    "\n",
    "  - ValueError: Una función ha recibido unos argumentos inesperados con los que no puede funcionar.\n",
    "  - IndexError: Se pretende obtener un elemento de una secuencia dando un valor para el índice que no existe.\n",
    "  - KeyError: Se pretende obtener un error de un diccionario utilizando una clave que no existe."
   ]
  },
  {
   "cell_type": "code",
   "execution_count": 2,
   "metadata": {},
   "outputs": [
    {
     "ename": "IndexError",
     "evalue": "list index out of range",
     "output_type": "error",
     "traceback": [
      "\u001b[0;31m---------------------------------------------------------------------------\u001b[0m",
      "\u001b[0;31mIndexError\u001b[0m                                Traceback (most recent call last)",
      "\u001b[0;32m<ipython-input-2-0c4872794fa5>\u001b[0m in \u001b[0;36m<module>\u001b[0;34m()\u001b[0m\n\u001b[1;32m      1\u001b[0m \u001b[0mlista\u001b[0m \u001b[0;34m=\u001b[0m \u001b[0;34m[\u001b[0m\u001b[0;36m1\u001b[0m\u001b[0;34m,\u001b[0m \u001b[0;36m2\u001b[0m\u001b[0;34m,\u001b[0m \u001b[0;36m3\u001b[0m\u001b[0;34m]\u001b[0m\u001b[0;34m\u001b[0m\u001b[0m\n\u001b[0;32m----> 2\u001b[0;31m \u001b[0mlista\u001b[0m\u001b[0;34m[\u001b[0m\u001b[0;36m3\u001b[0m\u001b[0;34m]\u001b[0m\u001b[0;34m\u001b[0m\u001b[0m\n\u001b[0m",
      "\u001b[0;31mIndexError\u001b[0m: list index out of range"
     ]
    }
   ],
   "source": [
    "lista = [1, 2, 3]\n",
    "lista[3]"
   ]
  },
  {
   "cell_type": "code",
   "execution_count": 3,
   "metadata": {},
   "outputs": [
    {
     "ename": "KeyError",
     "evalue": "'clave_inexistente'",
     "output_type": "error",
     "traceback": [
      "\u001b[0;31m---------------------------------------------------------------------------\u001b[0m",
      "\u001b[0;31mKeyError\u001b[0m                                  Traceback (most recent call last)",
      "\u001b[0;32m<ipython-input-3-85cfd60c0a13>\u001b[0m in \u001b[0;36m<module>\u001b[0;34m()\u001b[0m\n\u001b[1;32m      1\u001b[0m \u001b[0md\u001b[0m \u001b[0;34m=\u001b[0m \u001b[0;34m{\u001b[0m\u001b[0;34m'clave'\u001b[0m\u001b[0;34m:\u001b[0m \u001b[0;34m'valor'\u001b[0m\u001b[0;34m}\u001b[0m\u001b[0;34m\u001b[0m\u001b[0m\n\u001b[0;32m----> 2\u001b[0;31m \u001b[0md\u001b[0m\u001b[0;34m[\u001b[0m\u001b[0;34m'clave_inexistente'\u001b[0m\u001b[0;34m]\u001b[0m\u001b[0;34m\u001b[0m\u001b[0m\n\u001b[0m",
      "\u001b[0;31mKeyError\u001b[0m: 'clave_inexistente'"
     ]
    }
   ],
   "source": [
    "d = {'clave': 'valor'}\n",
    "d['clave_inexistente']"
   ]
  },
  {
   "cell_type": "markdown",
   "metadata": {},
   "source": [
    "Todas las excepciones son subclases de la clase [Exception](https://docs.python.org/3/library/exceptions.html#Exception).\n",
    "\n",
    "Otra excepción muy utilizada, aunque sea de un modo implícito, es [StopIteration](https://docs.python.org/3/library/exceptions.html#StopIteration).\n",
    "Un bucle se detiene cuando se genera una excepcion StopIteration por parte del iterador.\n",
    "Como usuarios no nos damos cuenta de que esto es así porque el bucle se encarga de manejar la excepción."
   ]
  },
  {
   "cell_type": "code",
   "execution_count": 4,
   "metadata": {},
   "outputs": [
    {
     "ename": "StopIteration",
     "evalue": "",
     "output_type": "error",
     "traceback": [
      "\u001b[0;31m---------------------------------------------------------------------------\u001b[0m",
      "\u001b[0;31mStopIteration\u001b[0m                             Traceback (most recent call last)",
      "\u001b[0;32m<ipython-input-4-9d7e20e98cb6>\u001b[0m in \u001b[0;36m<module>\u001b[0;34m()\u001b[0m\n\u001b[1;32m      1\u001b[0m \u001b[0miterador\u001b[0m \u001b[0;34m=\u001b[0m \u001b[0miter\u001b[0m\u001b[0;34m(\u001b[0m\u001b[0mlist\u001b[0m\u001b[0;34m(\u001b[0m\u001b[0;34m[\u001b[0m\u001b[0;36m1\u001b[0m\u001b[0;34m]\u001b[0m\u001b[0;34m)\u001b[0m\u001b[0;34m)\u001b[0m\u001b[0;34m\u001b[0m\u001b[0m\n\u001b[1;32m      2\u001b[0m \u001b[0mnext\u001b[0m\u001b[0;34m(\u001b[0m\u001b[0miterador\u001b[0m\u001b[0;34m)\u001b[0m\u001b[0;34m\u001b[0m\u001b[0m\n\u001b[0;32m----> 3\u001b[0;31m \u001b[0mnext\u001b[0m\u001b[0;34m(\u001b[0m\u001b[0miterador\u001b[0m\u001b[0;34m)\u001b[0m\u001b[0;34m\u001b[0m\u001b[0m\n\u001b[0m",
      "\u001b[0;31mStopIteration\u001b[0m: "
     ]
    }
   ],
   "source": [
    "iterador = iter(list([1]))\n",
    "next(iterador)\n",
    "next(iterador)"
   ]
  },
  {
   "cell_type": "markdown",
   "metadata": {},
   "source": [
    "## Controlando las excepciones\n",
    "\n",
    "La generación de una excepción no implica necesariamente que el programa vaya a detenerse.\n",
    "Tenemos la opción de controlar el problema y establecer una solución."
   ]
  },
  {
   "cell_type": "code",
   "execution_count": 5,
   "metadata": {},
   "outputs": [
    {
     "name": "stdout",
     "output_type": "stream",
     "text": [
      "No se ha detenido el programa\n"
     ]
    }
   ],
   "source": [
    "try:\n",
    "    1 / 0\n",
    "except ZeroDivisionError:\n",
    "    pass\n",
    "print('No se ha detenido el programa')"
   ]
  },
  {
   "cell_type": "markdown",
   "metadata": {},
   "source": [
    "En primer lugar se ejecuta el bloque de código incluido en el try.\n",
    "Si no ocurre una excepción el código incluido en el except no será ejecutado.\n",
    "Si ocurre una excepción del tipo de error que el except está esperando el bloque de código del except será ejecutado y la ejecución del programa continuará normalmente.\n",
    "\n",
    "Si la excepción que se origina no es la que el except esperaba el except no se encargará de manejar esta excepción."
   ]
  },
  {
   "cell_type": "code",
   "execution_count": 7,
   "metadata": {},
   "outputs": [
    {
     "ename": "ZeroDivisionError",
     "evalue": "division by zero",
     "output_type": "error",
     "traceback": [
      "\u001b[0;31m---------------------------------------------------------------------------\u001b[0m",
      "\u001b[0;31mZeroDivisionError\u001b[0m                         Traceback (most recent call last)",
      "\u001b[0;32m<ipython-input-7-868c8db18367>\u001b[0m in \u001b[0;36m<module>\u001b[0;34m()\u001b[0m\n\u001b[1;32m      1\u001b[0m \u001b[0;32mtry\u001b[0m\u001b[0;34m:\u001b[0m\u001b[0;34m\u001b[0m\u001b[0m\n\u001b[0;32m----> 2\u001b[0;31m     \u001b[0;36m1\u001b[0m \u001b[0;34m/\u001b[0m \u001b[0;36m0\u001b[0m\u001b[0;34m\u001b[0m\u001b[0m\n\u001b[0m\u001b[1;32m      3\u001b[0m \u001b[0;32mexcept\u001b[0m \u001b[0mValueError\u001b[0m\u001b[0;34m:\u001b[0m\u001b[0;34m\u001b[0m\u001b[0m\n\u001b[1;32m      4\u001b[0m     \u001b[0;32mpass\u001b[0m\u001b[0;34m\u001b[0m\u001b[0m\n\u001b[1;32m      5\u001b[0m \u001b[0mprint\u001b[0m\u001b[0;34m(\u001b[0m\u001b[0;34m'El programa se detendrá'\u001b[0m\u001b[0;34m)\u001b[0m\u001b[0;34m\u001b[0m\u001b[0m\n",
      "\u001b[0;31mZeroDivisionError\u001b[0m: division by zero"
     ]
    }
   ],
   "source": [
    "try:\n",
    "    1 / 0\n",
    "except ValueError:\n",
    "    pass\n",
    "print('El programa se detendrá')"
   ]
  },
  {
   "cell_type": "markdown",
   "metadata": {},
   "source": [
    "Podemos utilizar varias excepciones en un mismo except."
   ]
  },
  {
   "cell_type": "code",
   "execution_count": 8,
   "metadata": {},
   "outputs": [
    {
     "name": "stdout",
     "output_type": "stream",
     "text": [
      "No se ha detenido el programa\n"
     ]
    }
   ],
   "source": [
    "try:\n",
    "    1 / 0\n",
    "except (ZeroDivisionError, ValueError):\n",
    "    pass\n",
    "print('No se ha detenido el programa')"
   ]
  },
  {
   "cell_type": "markdown",
   "metadata": {},
   "source": [
    "Podemos utilizar varios except alternativos."
   ]
  },
  {
   "cell_type": "code",
   "execution_count": 6,
   "metadata": {},
   "outputs": [
    {
     "name": "stdout",
     "output_type": "stream",
     "text": [
      "el error ha sido de división por cero\n"
     ]
    }
   ],
   "source": [
    "try:\n",
    "    1 / 0\n",
    "except KeyError:\n",
    "    pass\n",
    "except ValueError:\n",
    "    pass\n",
    "except ZeroDivisionError:\n",
    "    print('el error ha sido de división por cero')\n"
   ]
  },
  {
   "cell_type": "markdown",
   "metadata": {},
   "source": [
    "### else\n",
    "\n",
    "Conviene incluir en el bloque del try poco código de modo que estemos manejando realmente la excepción que esperábamos y no otra causada por otro código.\n",
    "Si queremos que el try tenga un bloque de código más grande podemos poner la parte que queremos controlar en el try y el resto en un bloque else que se ejecutará sólo si no ha ocurrido un error."
   ]
  },
  {
   "cell_type": "code",
   "execution_count": 9,
   "metadata": {},
   "outputs": [
    {
     "name": "stdout",
     "output_type": "stream",
     "text": [
      "Todo ha ido bien\n"
     ]
    }
   ],
   "source": [
    "try:\n",
    "    division = 1 / 1\n",
    "except ZeroDivisionError:\n",
    "    print('En este caso no va a ocurrir un ZeroDivisionError')\n",
    "else:\n",
    "    print('Todo ha ido bien')"
   ]
  },
  {
   "cell_type": "code",
   "execution_count": 10,
   "metadata": {},
   "outputs": [
    {
     "name": "stdout",
     "output_type": "stream",
     "text": [
      "Ha habido un error\n"
     ]
    }
   ],
   "source": [
    "try:\n",
    "    division = 1 / 0\n",
    "except ZeroDivisionError:\n",
    "    print('Ha habido un error')\n",
    "else:\n",
    "    print('No ha ido bien')"
   ]
  },
  {
   "cell_type": "markdown",
   "metadata": {},
   "source": [
    "## finally\n",
    "\n",
    "Si queremos que haya un código que se ejecute en todos los casos, tanto si ha ocurrido el error como si no podemos utilizar finally.\n",
    "Esto suele utilizarse para limpiar antes de pasar a otra sección del código o de abandonar el programa.\n",
    "Por ejemplo, suele usarse para cerrar ficheros o conexiones con las bases de datos."
   ]
  },
  {
   "cell_type": "code",
   "execution_count": 11,
   "metadata": {},
   "outputs": [
    {
     "name": "stdout",
     "output_type": "stream",
     "text": [
      "Error\n",
      "Me imprimo siempre\n"
     ]
    }
   ],
   "source": [
    "try:\n",
    "    division = 1 / 0\n",
    "except ZeroDivisionError:\n",
    "    print('Error')\n",
    "else:\n",
    "    print('Me imprimo si no ha habido error')\n",
    "finally:\n",
    "    print('Me imprimo siempre')"
   ]
  },
  {
   "cell_type": "code",
   "execution_count": 12,
   "metadata": {},
   "outputs": [
    {
     "name": "stdout",
     "output_type": "stream",
     "text": [
      "Me imprimo si no ha habido error\n",
      "Me imprimo siempre\n"
     ]
    }
   ],
   "source": [
    "try:\n",
    "    division = 1 / 1\n",
    "except ZeroDivisionError:\n",
    "    print('Error')\n",
    "else:\n",
    "    print('Me imprimo si no ha habido error')\n",
    "finally:\n",
    "    print('Me imprimo siempre')"
   ]
  },
  {
   "cell_type": "markdown",
   "metadata": {},
   "source": [
    "## raise\n",
    "\n",
    "Podemos generar una excepción en cualquier momento utilizando raise."
   ]
  },
  {
   "cell_type": "code",
   "execution_count": 13,
   "metadata": {},
   "outputs": [
    {
     "ename": "RuntimeError",
     "evalue": "Ha ocurrido un error",
     "output_type": "error",
     "traceback": [
      "\u001b[0;31m---------------------------------------------------------------------------\u001b[0m",
      "\u001b[0;31mRuntimeError\u001b[0m                              Traceback (most recent call last)",
      "\u001b[0;32m<ipython-input-13-0312d5c78077>\u001b[0m in \u001b[0;36m<module>\u001b[0;34m()\u001b[0m\n\u001b[0;32m----> 1\u001b[0;31m \u001b[0;32mraise\u001b[0m \u001b[0mRuntimeError\u001b[0m\u001b[0;34m(\u001b[0m\u001b[0;34m'Ha ocurrido un error'\u001b[0m\u001b[0;34m)\u001b[0m\u001b[0;34m\u001b[0m\u001b[0m\n\u001b[0m",
      "\u001b[0;31mRuntimeError\u001b[0m: Ha ocurrido un error"
     ]
    }
   ],
   "source": [
    "raise RuntimeError('Ha ocurrido un error')"
   ]
  },
  {
   "cell_type": "markdown",
   "metadata": {},
   "source": [
    "## Nuestras propias excepciones\n",
    "\n",
    "Una excepción es una clase que posee un interfaz determinado.\n",
    "Podemos crear nuestras propias excepciones muy fácilmente creando una clase que herede de cualquier excepción de Python."
   ]
  },
  {
   "cell_type": "code",
   "execution_count": 14,
   "metadata": {},
   "outputs": [
    {
     "ename": "NuestroError",
     "evalue": "Ha ocurrido un error",
     "output_type": "error",
     "traceback": [
      "\u001b[0;31m---------------------------------------------------------------------------\u001b[0m",
      "\u001b[0;31mNuestroError\u001b[0m                              Traceback (most recent call last)",
      "\u001b[0;32m<ipython-input-14-36221dc917fd>\u001b[0m in \u001b[0;36m<module>\u001b[0;34m()\u001b[0m\n\u001b[1;32m      2\u001b[0m     \u001b[0;32mpass\u001b[0m\u001b[0;34m\u001b[0m\u001b[0m\n\u001b[1;32m      3\u001b[0m \u001b[0;34m\u001b[0m\u001b[0m\n\u001b[0;32m----> 4\u001b[0;31m \u001b[0;32mraise\u001b[0m \u001b[0mNuestroError\u001b[0m\u001b[0;34m(\u001b[0m\u001b[0;34m'Ha ocurrido un error'\u001b[0m\u001b[0;34m)\u001b[0m\u001b[0;34m\u001b[0m\u001b[0m\n\u001b[0m",
      "\u001b[0;31mNuestroError\u001b[0m: Ha ocurrido un error"
     ]
    }
   ],
   "source": [
    "class NuestroError(Exception):\n",
    "    pass\n",
    "\n",
    "raise NuestroError('Ha ocurrido un error')"
   ]
  },
  {
   "cell_type": "code",
   "execution_count": null,
   "metadata": {},
   "outputs": [],
   "source": []
  }
 ],
 "metadata": {
  "kernelspec": {
   "display_name": "Python 3",
   "language": "python",
   "name": "python3"
  },
  "language_info": {
   "codemirror_mode": {
    "name": "ipython",
    "version": 3
   },
   "file_extension": ".py",
   "mimetype": "text/x-python",
   "name": "python",
   "nbconvert_exporter": "python",
   "pygments_lexer": "ipython3",
   "version": "3.5.1+"
  }
 },
 "nbformat": 4,
 "nbformat_minor": 2
}
