{
 "cells": [
  {
   "cell_type": "markdown",
   "metadata": {},
   "source": [
    "# Tipos básicos y variables\n",
    "\n",
    "## Tipos\n",
    "\n",
    "En un lenguaje de programación cualquier dato con el que estemos trabajando tendrá un tipo.\n",
    "Aunque al imprimirlo nos pueda parace lo mismo no es lo mismo trabajar con el número 1 que con el carácter \"1\"."
   ]
  },
  {
   "cell_type": "code",
   "execution_count": null,
   "metadata": {},
   "outputs": [],
   "source": [
    "print(1)"
   ]
  },
  {
   "cell_type": "code",
   "execution_count": null,
   "metadata": {},
   "outputs": [],
   "source": [
    "print('1')"
   ]
  },
  {
   "cell_type": "code",
   "execution_count": null,
   "metadata": {},
   "outputs": [],
   "source": [
    "type(1)"
   ]
  },
  {
   "cell_type": "code",
   "execution_count": null,
   "metadata": {},
   "outputs": [],
   "source": [
    "type('1')"
   ]
  },
  {
   "cell_type": "markdown",
   "metadata": {},
   "source": [
    "El número 1 es de tipo entero (integer) mientras que el carácter '1' es de tipo cadena de texto (string)."
   ]
  },
  {
   "cell_type": "markdown",
   "metadata": {},
   "source": [
    "### Tipos básicos en Python\n",
    "\n",
    "Los tipos básicos en Python son: número entero (int), número con coma flotante (float), cadena de texto (str), cadena de bytes (bytes), booleano (bool) y None."
   ]
  },
  {
   "cell_type": "markdown",
   "metadata": {},
   "source": [
    "Existen dos tipos numéricos básicos sin coma y con coma: int y float."
   ]
  },
  {
   "cell_type": "code",
   "execution_count": null,
   "metadata": {},
   "outputs": [],
   "source": [
    "print(type(1))"
   ]
  },
  {
   "cell_type": "code",
   "execution_count": null,
   "metadata": {},
   "outputs": [],
   "source": [
    "print(type(1.0))"
   ]
  },
  {
   "cell_type": "markdown",
   "metadata": {},
   "source": [
    "El tipo que representa cadenas de texto es string."
   ]
  },
  {
   "cell_type": "code",
   "execution_count": null,
   "metadata": {},
   "outputs": [],
   "source": [
    "print(type('Hola'))"
   ]
  },
  {
   "cell_type": "markdown",
   "metadata": {},
   "source": [
    "Estas son cadenas de texto [unicode](https://es.wikipedia.org/wiki/Unicode) en las que un carácter no tiene porque estar representado por un solo byte.\n",
    "En Python también se dispone de un tipo de datos binario que puede ser utilizado para guardar cadenas de texto ASCII: bytes."
   ]
  },
  {
   "cell_type": "code",
   "execution_count": null,
   "metadata": {},
   "outputs": [],
   "source": [
    "print(b'hola')"
   ]
  },
  {
   "cell_type": "code",
   "execution_count": null,
   "metadata": {},
   "outputs": [],
   "source": [
    "print(type(b'hola'))"
   ]
  },
  {
   "cell_type": "markdown",
   "metadata": {},
   "source": [
    "Para la mayor parte de las aplicaciones sólo deberíamos preopuparnos por el tipo byte si estamos trabajando con datos binarios, pero en el caso de que estemos manejando una gran cantidad de datos de texto puede ser interesante, en algunas ocasiones, utilizar bytes en vez de cadenas de texto ya que la lectura y la escritura del fichero es algo más rápida.\n",
    "La limitación de utilizar bytes para tratar con texto es que sólo funcionan bien si tenemos bien configurada la [codificación de caracteres](https://es.wikipedia.org/wiki/Codificaci%C3%B3n_de_caracteres) lo cual nos suele limitar a textos que sólo incluyan caracteres presentes en los teclados norteamericanos, lo cual excluye acentos y eñes."
   ]
  },
  {
   "cell_type": "markdown",
   "metadata": {},
   "source": [
    "El tipo booleano sólo admite dos valores: True (verdadero) y False (falso)"
   ]
  },
  {
   "cell_type": "code",
   "execution_count": null,
   "metadata": {},
   "outputs": [],
   "source": [
    "print(type(True))"
   ]
  },
  {
   "cell_type": "code",
   "execution_count": null,
   "metadata": {},
   "outputs": [],
   "source": [
    "print(type(False))"
   ]
  },
  {
   "cell_type": "markdown",
   "metadata": {},
   "source": [
    "Finalmente el tipo especial None sólo admite el valor None y se suele utilizar para indicar que una variable está vacia."
   ]
  },
  {
   "cell_type": "code",
   "execution_count": null,
   "metadata": {},
   "outputs": [],
   "source": [
    "print(type(None))"
   ]
  },
  {
   "cell_type": "markdown",
   "metadata": {},
   "source": [
    "## Conversión de tipos\n",
    "\n",
    "En muchos casos podemos convertir unos tipos en otros."
   ]
  },
  {
   "cell_type": "code",
   "execution_count": null,
   "metadata": {},
   "outputs": [],
   "source": [
    "int('1')"
   ]
  },
  {
   "cell_type": "code",
   "execution_count": null,
   "metadata": {},
   "outputs": [],
   "source": [
    "str(42)"
   ]
  },
  {
   "cell_type": "code",
   "execution_count": null,
   "metadata": {},
   "outputs": [],
   "source": [
    "bool(0)"
   ]
  },
  {
   "cell_type": "code",
   "execution_count": null,
   "metadata": {},
   "outputs": [],
   "source": [
    "float(1.2)"
   ]
  },
  {
   "cell_type": "markdown",
   "metadata": {},
   "source": [
    "## Aritmética básica y operadores\n",
    "\n",
    "En Python podemos utilizar los operadores más comunes para hacer operaciones aritméticas básicas."
   ]
  },
  {
   "cell_type": "code",
   "execution_count": null,
   "metadata": {},
   "outputs": [],
   "source": [
    "1 + 1"
   ]
  },
  {
   "cell_type": "code",
   "execution_count": null,
   "metadata": {},
   "outputs": [],
   "source": [
    "2 * 3"
   ]
  },
  {
   "cell_type": "code",
   "execution_count": null,
   "metadata": {},
   "outputs": [],
   "source": [
    "1 / 2"
   ]
  },
  {
   "cell_type": "markdown",
   "metadata": {},
   "source": [
    "También tenemos a nuestra disposión operadores para hacer divisiones enteras (floor division) y para obtener el resto de una división (módulo)."
   ]
  },
  {
   "cell_type": "code",
   "execution_count": null,
   "metadata": {},
   "outputs": [],
   "source": [
    "3 // 2"
   ]
  },
  {
   "cell_type": "code",
   "execution_count": null,
   "metadata": {},
   "outputs": [],
   "source": [
    "3 % 2"
   ]
  },
  {
   "cell_type": "markdown",
   "metadata": {},
   "source": [
    "También podemos utilizar el operador suma para unir cadenas de texto."
   ]
  },
  {
   "cell_type": "code",
   "execution_count": null,
   "metadata": {},
   "outputs": [],
   "source": [
    "'Monty' + 'Python'"
   ]
  },
  {
   "cell_type": "markdown",
   "metadata": {},
   "source": [
    "## Variables\n",
    "\n",
    "### Python es dinámico\n",
    "Python es un lenguaje dinámico, esto quiere decir que no es necesario definir el tipo de la variable antes de crearla y que podemos utilizar una misma variable para almacenar distintos tipos.\n",
    "Otros lenguajes son estáticos respecto a las variables y antes de utilizarlas debemos especificar el tipo de dato que vamos a almacenar en ellas.\n",
    "Esto tiene sentido ya que de ese modo el compilador puede reservar el espacio de la memoria requerido dependiendo del tipo de variable, pero en los lenguajes dinámicos esto se obvia y el intérprete debe reservar la memoria dinámicamente dependiendo del tipo que almacenemos en cada caso."
   ]
  },
  {
   "cell_type": "code",
   "execution_count": null,
   "metadata": {},
   "outputs": [],
   "source": [
    "x = 42\n",
    "x = 'Monty'\n",
    "print(x)"
   ]
  },
  {
   "cell_type": "markdown",
   "metadata": {},
   "source": [
    "### En Python las variables etiquetan objetos\n",
    "\n",
    "Una varible representa un espacio en la memoria del ordenador al que le asignamos un identificador, una etiqueta a la que llamamos variable.\n",
    "La variable no es más que una etiqueta y puede ser asignada a un objeto de cualquier tipo.\n",
    "\n",
    "Por ejemplo, podemos almacenar el número 42 de tipo entero."
   ]
  },
  {
   "cell_type": "code",
   "execution_count": null,
   "metadata": {},
   "outputs": [],
   "source": [
    "x = 42\n",
    "print(x)"
   ]
  },
  {
   "cell_type": "markdown",
   "metadata": {},
   "source": [
    "Si intentamos utilizar una variable que no ha sido declarada causaremos un error."
   ]
  },
  {
   "cell_type": "code",
   "execution_count": null,
   "metadata": {},
   "outputs": [],
   "source": [
    "print(y)"
   ]
  },
  {
   "cell_type": "markdown",
   "metadata": {},
   "source": [
    "### Variables y referencias\n",
    "\n",
    "Al hacer una asignación a un entero lo que estamos haciendo es crear un objeto de tipo entero y asignar la variable (que se comporta como un puntero) al objeto.\n",
    "En realidad lo primero que hemos hecho ha sido crear un número 42, después lo hemos guardado en una de las cajas que componen la memoria del ordenador y por último hemos etiquetado esa caja con la letra a, hemos asignado la variable a al objeto 42.\n",
    "x no es el número 42, el número 42, es sólo la variable, la etiqueta con la que nos referimos a él.\n",
    "Podemos pensar en la variable como en una flecha que apunta a la posición de la memoria en la que está guardado el objeto.\n"
   ]
  },
  {
   "cell_type": "code",
   "execution_count": null,
   "metadata": {},
   "outputs": [],
   "source": [
    "a = 42"
   ]
  },
  {
   "cell_type": "markdown",
   "metadata": {},
   "source": [
    "### Variables y referencias\n",
    "\n",
    "![Variable](../imagenes/variable.png)\n",
    "\n",
    "\n",
    "Es importante recordar este detalle cuando estamos utilizando variables en Python porque si no podemos confundirnos fácilmente.\n",
    "\n",
    "Este comportamiento no es universal en todos los lenguajes de programación, en algunos la variable se refiere al objeto almacenado en la memoria, no es una mera etiqueta y en otros se refiere a la posición de la memoria, es un puntero."
   ]
  },
  {
   "cell_type": "markdown",
   "metadata": {},
   "source": [
    "Intenta pensar en qué resultado debería obtenerse al ejecutar el código siguiente."
   ]
  },
  {
   "cell_type": "code",
   "execution_count": null,
   "metadata": {},
   "outputs": [],
   "source": [
    "a = 42\n",
    "b = a\n",
    "b = b + 1\n",
    "print(a)\n",
    "print(b)"
   ]
  },
  {
   "cell_type": "markdown",
   "metadata": {},
   "source": [
    "¿Y si lo hacemos al revés?"
   ]
  },
  {
   "cell_type": "code",
   "execution_count": null,
   "metadata": {},
   "outputs": [],
   "source": [
    "a = 42\n",
    "b = a\n",
    "a = a + 1\n",
    "print(a)\n",
    "print(b)"
   ]
  },
  {
   "cell_type": "markdown",
   "metadata": {},
   "source": [
    "¿Qué está pasando?"
   ]
  },
  {
   "cell_type": "markdown",
   "metadata": {},
   "source": [
    "Otro ejemplo:"
   ]
  },
  {
   "cell_type": "code",
   "execution_count": null,
   "metadata": {},
   "outputs": [],
   "source": [
    "a = 42\n",
    "b = a\n",
    "a = 'spam'\n",
    "print(a)\n",
    "print(b)"
   ]
  },
  {
   "cell_type": "markdown",
   "metadata": {},
   "source": [
    "![Variables](../imagenes/variables.png)\n"
   ]
  },
  {
   "cell_type": "markdown",
   "metadata": {},
   "source": [
    "Podemos imprimir la posición de la memoria que ocupa cada una de las variables."
   ]
  },
  {
   "cell_type": "code",
   "execution_count": null,
   "metadata": {},
   "outputs": [],
   "source": [
    "a = 42\n",
    "print(hex(id(a)))\n",
    "b = a\n",
    "print(hex(id(b)))\n",
    "a = 'spam'\n",
    "print(hex(id(a)))\n",
    "print(hex(id(b)))"
   ]
  },
  {
   "cell_type": "markdown",
   "metadata": {},
   "source": [
    "Esta es una de las características que distinguen a unos lenguajes de otros.\n",
    "En otros lenguajes, por ejemplo en C, la variable no representa a un puntero a la posición de memoria sino al valor de esa posición de memoria a no ser que creemos explícitamente un puntero.\n",
    "Si quieres más información sobre este asunto puedes leer sobre pases de variables a una función por valor, por referencia o por asignación. Python pasa las funciones por asignación.\n",
    "\n",
    "En Python una asignación puede hacer dos cosas:\n",
    "\n",
    "  * 1. a = 1. Crea un objeto (en este caso el entero 1) y asigna a la variable una referencia al objeto creado\n",
    "  * 2. b = a. Asigna a la variable b una referencia al objeto al que apuntaba a. Esto se hace copiando la dirección de memoria contenida en a a la nueva variable b.\n"
   ]
  },
  {
   "cell_type": "markdown",
   "metadata": {},
   "source": [
    "Otro ejemplo con una suma. ¿Cuál será el resultado de ejecutar el código?"
   ]
  },
  {
   "cell_type": "code",
   "execution_count": null,
   "metadata": {},
   "outputs": [],
   "source": [
    "a = 1\n",
    "b = a\n",
    "a = a + 1\n",
    "print(a)\n",
    "print(b)"
   ]
  },
  {
   "cell_type": "markdown",
   "metadata": {},
   "source": [
    "Veamos qué pasa si en vez de enteros trabajamos con listas.\n",
    "¿Qué resultado obtendremos al ejecutar el código?"
   ]
  },
  {
   "cell_type": "code",
   "execution_count": null,
   "metadata": {},
   "outputs": [],
   "source": [
    "a = [1]\n",
    "b = a\n",
    "a.append(2)\n",
    "print(a)\n",
    "print(b)"
   ]
  },
  {
   "cell_type": "markdown",
   "metadata": {},
   "source": [
    "En este caso no hemos creado un objeto nuevo al hacer el *append*, sino que hemos modificado el objeto al que hacían referencia las variables a y b."
   ]
  },
  {
   "cell_type": "markdown",
   "metadata": {},
   "source": [
    "### Objetos mutables e inmutables\n",
    "\n",
    "Los objetos inmutables, como un entero o una cadena de texto, no pueden modificarse. Podemos sumar un 2 al entero 1, pero esto no modificará el entero original, creará un nuevo entero 3.\n",
    "\n",
    "Los objetos mutables, como por ejemplo una lista, sí pueden modificarse.\n",
    "\n",
    "Ejemplos de tipos inmutables en Python: int, float, str, byte, tuple\n",
    "\n",
    "Ejemplos de tipos mutables: list, dict, set\n"
   ]
  },
  {
   "cell_type": "markdown",
   "metadata": {},
   "source": [
    "### Funciones y objetos mutables\n",
    "\n",
    "Será muy importante tener en cuenta estos comportamientos cuando utilicemos funciones a las que les pasamos objetos mutables.\n",
    "\n",
    "Imaginemos que hacemos una función que suma cuadrados.\n"
   ]
  },
  {
   "cell_type": "code",
   "execution_count": 10,
   "metadata": {},
   "outputs": [
    {
     "name": "stdout",
     "output_type": "stream",
     "text": [
      "14\n",
      "[1, 4, 9]\n"
     ]
    }
   ],
   "source": [
    "def suma_cuadrados(lista_de_numeros):\n",
    "    for i in range(len(lista_de_numeros)):\n",
    "        lista_de_numeros[i] = lista_de_numeros[i] ** 2\n",
    "    return sum(lista_de_numeros)\n",
    "\n",
    "algunos_numeros = [1, 2, 3]\n",
    "print(suma_cuadrados(algunos_numeros))\n",
    "print(algunos_numeros)"
   ]
  },
  {
   "cell_type": "markdown",
   "metadata": {},
   "source": [
    "Este es un comportamiento que suele causar muchos bugs.\n",
    "Imaginemos que un usuario llama a una función de una librería de análisis de datos con un vector de enteros y que, sin que el usuario lo espere, la función que ha llamado altera el vector de números.\n",
    "El usuario puede que asuma que el vector no ha cambiado lo cual daría lugar a errores.\n",
    "Sería recomendable crear las funciones de modo que no alteren los parámetros de entrada o, si lo hacen por motivos de eficiencia de memoria, deberían avisar al usuario de que esto va a ocurrir."
   ]
  },
  {
   "cell_type": "code",
   "execution_count": 13,
   "metadata": {},
   "outputs": [
    {
     "name": "stdout",
     "output_type": "stream",
     "text": [
      "14\n",
      "[1, 2, 3]\n"
     ]
    }
   ],
   "source": [
    "def suma_cuadrados2(lista_de_numeros):\n",
    "    return sum([numero ** 2 for numero in lista_de_numeros])\n",
    "\n",
    "algunos_numeros = [1, 2, 3]\n",
    "print(suma_cuadrados2(algunos_numeros))\n",
    "print(algunos_numeros)"
   ]
  },
  {
   "cell_type": "markdown",
   "metadata": {},
   "source": [
    "### Nombres de las variables\n",
    "\n",
    "Podemos nombrar las variables prácticamente como queramos, pero hay que tener en cuenta algunas restricciones:\n",
    "\n",
    "  * Los nombres pueden estar compuestos por cualquier caracter alfanumérico, incluyendo \"_\", pero no podemos utilizar el espacio.\n",
    "  * El primer carácter debe ser una letra del alfabeto, no puede ser un número.\n",
    "  * Las variables que comienzan por “_” tienen, por convención, un significado especial.\n",
    "  * Las mayúsculas y las minúsculas importan, “a” es distinto de “A”.\n",
    "  * Hay algunos nombres reservados que no podemos y no debemos utilizar, como: and, as, assert, break, class, continue, def, del, elif, else, except, exec, finally, for, from, global, if, import, in, is, lambda, not, or, pass, print, raise, return, try, while, with, yield\n",
    "  * Debemos tener cuidado cuando nombramos una variable para no reemplazar alguna variable o función previa.\n",
    "\n",
    "Por convención los nombres de las variables suelen escribirse en minúsculas.\n",
    "\n",
    "Además, aunque esto no es una regla que deba obedecerse obligatoriamente, es conveniente que demos a las variables nombres que más tarde podamos recordar. Si abrimos un programa nuestro tres meses después de haberlo escrito y nos encontramos con la expresión “m = 3.5” nos será difícil entender que hace el programa.\n",
    "Habría sido mucho más claro nombrar la variable como “media = 3.5”."
   ]
  },
  {
   "cell_type": "code",
   "execution_count": null,
   "metadata": {},
   "outputs": [],
   "source": []
  }
 ],
 "metadata": {
  "kernelspec": {
   "display_name": "Python 3",
   "language": "python",
   "name": "python3"
  },
  "language_info": {
   "codemirror_mode": {
    "name": "ipython",
    "version": 3
   },
   "file_extension": ".py",
   "mimetype": "text/x-python",
   "name": "python",
   "nbconvert_exporter": "python",
   "pygments_lexer": "ipython3",
   "version": "3.7.3"
  }
 },
 "nbformat": 4,
 "nbformat_minor": 4
}
