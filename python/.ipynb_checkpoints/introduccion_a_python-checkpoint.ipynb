{
 "cells": [
  {
   "cell_type": "markdown",
   "metadata": {},
   "source": [
    "# Python para científicos\n",
    "\n",
    "## ¿Por qué Python?\n",
    "\n",
    "[Python](https://es.wikipedia.org/wiki/Python) es un lenguaje de programación potente y fácil de aprender.\n",
    "Python se distribuye bajo una licencia libre por lo que podemos descargarlo y utilizarlo sin prácticamente ninguna restricción.\n",
    "\n",
    "A pesar de su sencillez Python es un lenguaje multipropósito que puede ser utilizado para resolver una gran diversidad de taréas informáticas.\n",
    "Python es utilizado ampliamente en la industria, por ejemplo en aplicaciones tan comunes como Dropbox o Youtube.\n",
    "Java es un lenguaje alternativo a Python que es incluso más utilizado en muchos ámbitos, pero resulta mucho más complejo de aprender, especialmente para un estudiante sin experiencia en programación orientada a objetos.\n",
    "Python es actualmente uno de los lenguajes con un mayor [crecimiento](https://stackoverflow.blog/2017/09/06/incredible-growth-python/).\n",
    "Además, Python se está convirtiendo en el estándar en ciencia de datos.\n",
    "\n",
    "## Instalando Python\n",
    "\n",
    "Python está preinstalado en los sistemas Linux y MacOS y podríamos utilizarlo directamente, pero para homogeneizar el entorno de todos los estudiantes en este curso asumiremos que hemos instalado la distribución [Anaconda](https://www.anaconda.com/distribution/) para Python3.\n",
    "\n",
    "Esta distribución está orientada al análisis de datos e incluye, además del intérprete, numerosas librerías, así como otras utilidades para facilitar la edición de código en Python y su ejecución interactiva."
   ]
  },
  {
   "cell_type": "markdown",
   "metadata": {},
   "source": [
    "## Hola mundo\n",
    "\n",
    "Podemos comenzar a familiarizarnos con Python imprimiendo \"Hola mundo\"."
   ]
  },
  {
   "cell_type": "code",
   "execution_count": 1,
   "metadata": {},
   "outputs": [
    {
     "name": "stdout",
     "output_type": "stream",
     "text": [
      "Hola mundo\n"
     ]
    }
   ],
   "source": [
    "print('Hola mundo')"
   ]
  },
  {
   "cell_type": "markdown",
   "metadata": {},
   "source": [
    "Alternativamente, en java para imprimir \"Hola mundo\" deberíamos escribir:"
   ]
  },
  {
   "cell_type": "raw",
   "metadata": {},
   "source": [
    "class HolaMundo\n",
    "{\n",
    "    public static void main(String[] args)\n",
    "    {\n",
    "        System.out.println(\"Hola Mundo\");\n",
    "    }\n",
    "}"
   ]
  },
  {
   "cell_type": "markdown",
   "metadata": {},
   "source": [
    "## Ejecutando Python\n",
    "\n",
    "Python es un lenguaje interpretado, esto significa que el código escrito en Python no suele ser ejecutado directamente por el sistema operativo, sino que suele ejecutarlo un programa especial denominado intérprete.\n",
    "Otros ejemplos de lenguajes interpretados son R, perl o javascript.\n",
    "La alternativa, utilizada por otros lenguajes, es utilizar un compilador para compilar el código a algo que el sistema operativo pueda ejecutar directamente.\n",
    "La ventaja de utilizar un lenguaje interpretado es que nos ahorramos el paso de la compilación que deberíamos hacer después de escribir o modificar cualquier fragmento de código. La desventaja principal es que esta compilación debe ser realizada implícitamente por el interprete cada vez que ejecutamos el código y esto puede ralentizar la ejecución.\n",
    "\n",
    "### Intérprete interactivo\n",
    "\n",
    "Podemos utilizar Python ejecutando interactivamente el intérprete distribuido por [python.org](https://www.python.org/).\n",
    "Este intérprete está preinstalado en los sistemas operativos Linux y MacOS por lo que no es necesario instalarlo antes de utilizarlo.\n",
    "Para poner en marcha el intérprete tan solo debemos ejecutar en la línea de comandos:"
   ]
  },
  {
   "cell_type": "raw",
   "metadata": {},
   "source": [
    "~$ python\n",
    "Python 3.6.4 |Anaconda, Inc.| (default, Jan 16 2018, 12:04:33) \n",
    "[GCC 4.2.1 Compatible Clang 4.0.1 (tags/RELEASE_401/final)] on darwin\n",
    "Type \"help\", \"copyright\", \"credits\" or \"license\" for more information.\n",
    ">>> print('Hola mundo')\n",
    "Hola mundo"
   ]
  },
  {
   "cell_type": "markdown",
   "metadata": {},
   "source": [
    "Una vez se ha abierto este intérprete interactivo podemos escribir comandos en Python y observar inmediatamente el resultado de su ejecución en la misma terminal."
   ]
  },
  {
   "cell_type": "markdown",
   "metadata": {},
   "source": [
    "### Archivos de código\n",
    "\n",
    "El intérprete interactivo resulta muy útil para ejecutar pequeños comandos, pero si queremos ejecutar el código repetidamente o si queremos realizar tareas que requieren numerosas líneas de código es más cómodo escribir el código en un fichero de texto con extensión \".py\" y ejecutar este fichero pasándoselo como argumento al intérprete."
   ]
  },
  {
   "cell_type": "raw",
   "metadata": {},
   "source": [
    "Contenido del fichero de texto hola.py:\n",
    "\n",
    "print('Hola mundo')"
   ]
  },
  {
   "cell_type": "raw",
   "metadata": {},
   "source": [
    "~$ python hola.py\n",
    "Hola mundo"
   ]
  },
  {
   "cell_type": "code",
   "execution_count": null,
   "metadata": {},
   "outputs": [],
   "source": []
  }
 ],
 "metadata": {
  "kernelspec": {
   "display_name": "Python 3",
   "language": "python",
   "name": "python3"
  },
  "language_info": {
   "codemirror_mode": {
    "name": "ipython",
    "version": 3
   },
   "file_extension": ".py",
   "mimetype": "text/x-python",
   "name": "python",
   "nbconvert_exporter": "python",
   "pygments_lexer": "ipython3",
   "version": "3.6.4"
  }
 },
 "nbformat": 4,
 "nbformat_minor": 2
}
