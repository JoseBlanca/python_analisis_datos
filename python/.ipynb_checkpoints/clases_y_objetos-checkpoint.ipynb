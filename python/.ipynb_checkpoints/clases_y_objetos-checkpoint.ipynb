{
 "cells": [
  {
   "cell_type": "markdown",
   "metadata": {},
   "source": [
    "# Clases y objetos\n",
    "\n",
    "Python es en el fondo un lenguaje [orientado a objetos](https://es.wikipedia.org/wiki/Programaci%C3%B3n_orientada_a_objetos), aunque admita otros paradigmas de programción, y por lo tanto permite la creación de clases.\n",
    "\n",
    "Una [clase](https://es.wikipedia.org/wiki/Clase_(inform%C3%A1tica)) es un modelo que representa una entidad o un concepto, por ejemplo una factura o un ocher. Las clases incluyen tanto los datos, el estado, referentes al modelo, por ejemplo la velocidad a la que se mueve un coche, como los métodos para trabajar con ese estado, por ejemplo acelera o frena en el caso del coche.\n",
    "Mientras que las funciones representan acciones, por ejemplo eleva_al_cuadrado, las clases representan sustantivos, como coche o factura.\n",
    "Los [métodos](https://es.wikipedia.org/wiki/Clase_(inform%C3%A1tica)#M%C3%A9todos_en_las_clases) de la clase son las funciones que se incluyen en la definición de la clase y las propiedades son los datos.\n",
    "Al conjunto de métodos y propiedades se le denomina en Python atributos de la clase.\n",
    "\n",
    "Un [objeto](https://es.wikipedia.org/wiki/Instancia_(inform%C3%A1tica)), o instancia, es un ejemplo concreto, con unos datos concretos, de la clase.\n",
    "En el caso del coche sería un coche concreto con una velocidad concreta.\n",
    "\n",
    "## Python es un lenguaje orientado a objetos\n",
    "\n",
    "Python, aunque permita hacer programación procedural y funcional es en esencia un lenguaje orientado a objetos.\n",
    "En Python todo son objetos, desde los enteros a las cadenas de texto, incluso las funciones son objetos.\n",
    "Un entero es un objeto de tipo entero con una funcionalidad, unos métodos, asociados, una cadena de texto es una instancia de str.\n",
    "\n",
    "Los métodos (sus funciones) de un objeto son invocados utilizando el punto y las clases de Python nos proveen de una rica funcionalidad."
   ]
  },
  {
   "cell_type": "code",
   "execution_count": 17,
   "metadata": {},
   "outputs": [
    {
     "data": {
      "text/plain": [
       "'MONTY PYTHON'"
      ]
     },
     "execution_count": 17,
     "metadata": {},
     "output_type": "execute_result"
    }
   ],
   "source": [
    "texto = 'Monty Python'\n",
    "texto.upper()"
   ]
  },
  {
   "cell_type": "markdown",
   "metadata": {},
   "source": [
    "### Métodos especiales\n",
    "\n",
    "Para conseguir que se pueda programar ignorando que todo son objetos Python hace uso de [métodos especiales](https://docs.python.org/3/reference/datamodel.html#special-method-names) que son invocados por las funciones que utilizamos (más información sobre estos [métodos especiales](http://www.diveintopython3.net/special-method-names.html)).\n",
    "Por ejemplo, cuando utilizamos la función len para obtener el número de objetos que hay en una lista lo que hace len internamente es llamar al método \"\\_\\_len\\_\\_\" de la lista."
   ]
  },
  {
   "cell_type": "code",
   "execution_count": 18,
   "metadata": {},
   "outputs": [
    {
     "data": {
      "text/plain": [
       "3"
      ]
     },
     "execution_count": 18,
     "metadata": {},
     "output_type": "execute_result"
    }
   ],
   "source": [
    "l = [1, 2, 3]\n",
    "len(l)"
   ]
  },
  {
   "cell_type": "markdown",
   "metadata": {},
   "source": [
    "Es equivalente a llamar a su método especial \\_\\_len\\_\\_."
   ]
  },
  {
   "cell_type": "code",
   "execution_count": 19,
   "metadata": {},
   "outputs": [
    {
     "data": {
      "text/plain": [
       "3"
      ]
     },
     "execution_count": 19,
     "metadata": {},
     "output_type": "execute_result"
    }
   ],
   "source": [
    "l.__len__()"
   ]
  },
  {
   "cell_type": "markdown",
   "metadata": {},
   "source": [
    "Podemos utilizar la función len con cualquier clase que implemente un método \\_\\_len\\_\\_."
   ]
  },
  {
   "cell_type": "code",
   "execution_count": 21,
   "metadata": {},
   "outputs": [
    {
     "data": {
      "text/plain": [
       "42"
      ]
     },
     "execution_count": 21,
     "metadata": {},
     "output_type": "execute_result"
    }
   ],
   "source": [
    "class Respuesta:\n",
    "    def __len__(self):\n",
    "        return 42\n",
    "    \n",
    "respuesta = Respuesta()\n",
    "len(respuesta)"
   ]
  },
  {
   "cell_type": "markdown",
   "metadata": {},
   "source": [
    "Incluso las funciones son objetos que implementan un método especial, en este caso \\_\\_call\\_\\_.\n",
    "\n",
    "## Creación de clases"
   ]
  },
  {
   "cell_type": "code",
   "execution_count": 3,
   "metadata": {},
   "outputs": [
    {
     "name": "stdout",
     "output_type": "stream",
     "text": [
      "Hola mundo\n"
     ]
    }
   ],
   "source": [
    "class Saludo:\n",
    "\n",
    "    def __init__(self, saludo):\n",
    "        self._saludo = saludo\n",
    "\n",
    "    def saluda(self):\n",
    "        print(self._saludo)\n",
    "        \n",
    "hola = Saludo('Hola mundo')\n",
    "hola.saluda()"
   ]
  },
  {
   "cell_type": "markdown",
   "metadata": {},
   "source": [
    "### \\_\\_init\\_\\_\n",
    "\n",
    "\\_\\_init\\_\\_ es el método especial que nos permite inicializar la clase con los valores que deseemos.\n",
    "\n",
    "### self\n",
    "\n",
    "Los métodos tienen siempre como primer parámetro self.\n",
    "self es una variable que hace referencia a la instancia (objeto).\n",
    "Puedes pensar en self como una estructura de datos que guarda los datos de una instancia concreta.\n",
    "Para conseguir tener toda la funcionalidad de la clase habría que añadir los métodos a los datos guardados por self.\n",
    "Para acceder a los atributos almacenados dentro del self, o para crearlos, utilizamos un punto y el nombre del atributo.\n",
    "\n",
    "### Creando un objeto\n",
    "\n",
    "Para crear un objeto, para instanciar una clase, sólo tenemos que poner el nombre de la clase seguido de paréntesis y de los argumentos que requiera su método \\_\\_init\\_\\_.\n",
    "\n",
    "### Atributos: propiedades y métodos\n",
    "\n",
    "Esta clase tiene un atributo principal: saluda.\n",
    "\"_saludo\" es una propiedad, el dato, y saluda un método (una función) que define la funcionalidad de la clase.\n",
    "\n",
    "Saludo es la clase y hola una instancia, un objeto, de esta clase.\n",
    "\n",
    "### Interfaz\n",
    "Una clase [encapsula](https://es.wikipedia.org/wiki/Encapsulamiento_(inform%C3%A1tica%29) los datos y los métodos y ofrece una funcionalidad pública, su [interfaz](https://es.wikipedia.org/wiki/Interfaz_(programaci%C3%B3n%29), que es la que otras partes del programa utilizarán.\n",
    "En este ejemplo la funcionalidad pública es el método de inicialización de la clase (init) y el método (saluda).\n",
    "\n",
    "### Atributos públicos y privados\n",
    "\n",
    "En Python no hay atributos públicos y privados, todo es público, pero se asume por convención que cualquier método o propiedad cuyo nombre comience por barra baja será privado."
   ]
  },
  {
   "cell_type": "markdown",
   "metadata": {},
   "source": [
    "## Estilo procedural vs orientado a objetos\n",
    "\n",
    "Cualquier programa puede ser escrito prodecuralmente o con una aproximación orientada a objetos.\n",
    "La orientación objetos no añade funcionalidad extra, tan sólo es una forma alternativa de organizar el código.\n",
    "\n",
    "### Cálculo del área de un círculo escrita procedimentalmente\n"
   ]
  },
  {
   "cell_type": "code",
   "execution_count": 5,
   "metadata": {},
   "outputs": [
    {
     "name": "stdout",
     "output_type": "stream",
     "text": [
      "16.619025137490002 14.451326206513047\n"
     ]
    }
   ],
   "source": [
    "from math import pi, sqrt\n",
    "\n",
    "def calculate_area(circle):\n",
    "    area = pi * circle['radius'] ** 2\n",
    "    return area\n",
    "\n",
    "\n",
    "def calculate_circumference(circle):\n",
    "    circumference = 2 * pi * circle['radius']\n",
    "    return circumference\n",
    "\n",
    "\n",
    "circle = {'x': 0, 'y': 0, 'radius': 2.3}\n",
    "area = calculate_area(circle)\n",
    "circumference = calculate_circumference(circle)\n",
    "print(area, circumference)"
   ]
  },
  {
   "cell_type": "markdown",
   "metadata": {},
   "source": [
    "### Círculo orientado a objetos"
   ]
  },
  {
   "cell_type": "code",
   "execution_count": 6,
   "metadata": {},
   "outputs": [
    {
     "name": "stdout",
     "output_type": "stream",
     "text": [
      "16.619025137490002 14.451326206513047\n"
     ]
    }
   ],
   "source": [
    "class Circle:\n",
    "    def __init__(self, x, y, radius):\n",
    "        self.x = x\n",
    "        self.y = y\n",
    "        self.radius = radius\n",
    "\n",
    "    def calculate_circumference(self):\n",
    "        return 2 * pi * self.radius\n",
    "\n",
    "    def calculate_area(self):\n",
    "        return pi * self.radius ** 2\n",
    "\n",
    "circle = Circle(0, 0, 2.3)\n",
    "print(circle.calculate_area(), circle.calculate_circumference())"
   ]
  },
  {
   "cell_type": "markdown",
   "metadata": {},
   "source": [
    "Hemos implementado la misma funcionalidad proceduralmente y mediante clases y objetos.\n",
    "Una ventaja de la aproximación orientada a objetos es que si ahora queremos modificar la funcionalidad para trabajar con cualquier tipo de elipses y no sólo con círculos, que son un caso particular de elipses, el usuario de nuestras funciones debe cambiar las llamadas que hacía en el caso procedural, pero no en el orientado a objetos."
   ]
  },
  {
   "cell_type": "markdown",
   "metadata": {},
   "source": [
    "### Elipse procedimental"
   ]
  },
  {
   "cell_type": "code",
   "execution_count": 8,
   "metadata": {},
   "outputs": [
    {
     "name": "stdout",
     "output_type": "stream",
     "text": [
      "17.341591447815656 14.767156579079376\n"
     ]
    }
   ],
   "source": [
    "def calculate_ellipse_area(ellipse):\n",
    "    area = pi * ellipse['semi-major-axes'] * ellipse['semi-minor-axes']\n",
    "    return area\n",
    "\n",
    "\n",
    "def calculate_ellipse_circumference(ellipse):\n",
    "    a = ellipse['semi-major-axes']\n",
    "    b = ellipse['semi-minor-axes']\n",
    "    h = (a - b) ** 2 / (a + b) ** 2\n",
    "    # This formula is an approximation\n",
    "    # https://en.wikipedia.org/wiki/Ellipse#Circumference\n",
    "    circumference = pi * (a + b) * (1 + 3 * h /(10 + sqrt(4 - 3 * h)))\n",
    "    return circumference\n",
    "\n",
    "ellipse = {'x': 0, 'y': 0, 'semi-major-axes': 2.3, 'semi-minor-axes': 2.4}\n",
    "area = calculate_ellipse_area(ellipse)\n",
    "circumference = calculate_ellipse_circumference(ellipse)\n",
    "print(area, circumference)"
   ]
  },
  {
   "cell_type": "markdown",
   "metadata": {},
   "source": [
    "Para poder trabajar con elipses hemos tenido que modificar la estructura de datos, ahora ya no es un diccionario que incluye la clave \"radius\" sino un diccionario que incluye las claves \"semi-major-axes\" y \"semi-minos-axes\".\n",
    "En el caso procedural este cambio debe ser tenido en cuenta por los usuarios de nuestras funciones.\n",
    "Pero utilizando la programación orientada a objetos podemos hacer que el antiguo usuario de la clase Circle no se vea afectado.\n",
    "Esto facilita la división de la funcionalidad de una aplicación en partes que pueden ser desarrolladas independientemente.\n",
    "\n",
    "### Elipse orientada a objetos"
   ]
  },
  {
   "cell_type": "code",
   "execution_count": 10,
   "metadata": {},
   "outputs": [
    {
     "name": "stdout",
     "output_type": "stream",
     "text": [
      "17.341591447815656 14.767156579079376\n"
     ]
    }
   ],
   "source": [
    "class Ellipse:\n",
    "    def __init__(self, x, y, semi_major_axes, semi_minor_axes):\n",
    "        self.x = x\n",
    "        self.y = y\n",
    "        self.semi_major_axes = semi_major_axes\n",
    "        self.semi_minor_axes = semi_minor_axes\n",
    "\n",
    "    def calculate_circumference(self):\n",
    "        a = self.semi_major_axes\n",
    "        b = self.semi_minor_axes\n",
    "        h = (a - b) ** 2 / (a + b) ** 2\n",
    "        # This formula is an approximation\n",
    "        # https://en.wikipedia.org/wiki/Ellipse#Circumference\n",
    "        circumference = pi * (a + b) * (1 + 3 * h /(10 + sqrt(4 - 3 * h)))\n",
    "        return circumference\n",
    "\n",
    "    def calculate_area(self):\n",
    "        area = pi * self.semi_major_axes * self.semi_minor_axes\n",
    "        return area\n",
    "\n",
    "\n",
    "ellipse = Ellipse(0, 0, 2.3, 2.4)\n",
    "print(ellipse.calculate_area(), ellipse.calculate_circumference())"
   ]
  },
  {
   "cell_type": "markdown",
   "metadata": {},
   "source": [
    "### Círculo que hereda de Elipse"
   ]
  },
  {
   "cell_type": "code",
   "execution_count": 11,
   "metadata": {},
   "outputs": [
    {
     "name": "stdout",
     "output_type": "stream",
     "text": [
      "17.341591447815656 14.767156579079376\n",
      "16.619025137490002 14.451326206513047\n"
     ]
    }
   ],
   "source": [
    "class Circle2(Ellipse):\n",
    "    def __init__(self, x, y, radius):\n",
    "        super().__init__(x, y, radius, radius)\n",
    "\n",
    "    def calculate_circumference(self):\n",
    "        # This formula is exact, unlike the ellipse one\n",
    "        return 2 * pi * self.semi_major_axes\n",
    "\n",
    "ellipse = Ellipse(0, 0, 2.3, 2.4)\n",
    "circle = Circle2(0, 0, 2.3)\n",
    "print(ellipse.calculate_area(), ellipse.calculate_circumference())\n",
    "print(circle.calculate_area(), circle.calculate_circumference())"
   ]
  },
  {
   "cell_type": "markdown",
   "metadata": {},
   "source": [
    "Circle2 se utiliza igual que el anterior Circle, esto nos facilita la reusabilidad del código.\n",
    "La estructura de datos que almacena la información sobre círculo es interna a la clase y los usuarios de esa clase no deben preocuparse cuando esa estructura es alterada.\n",
    "Esta estructura que debía ser tenida en cuenta por los usuarios en la aproximación procedimental es ahora un detalle de implementación interno que no queda expuesto por la interfaz de la clase."
   ]
  },
  {
   "cell_type": "markdown",
   "metadata": {},
   "source": [
    "## Las clases almacenan estados\n",
    "\n",
    "Lo ideal es que la respuesta de las funciones no dependa más que de los argumentos que les hayamos pasadado, estas funciones son llamadas [puras](https://es.wikipedia.org/wiki/Programaci%C3%B3n_funcional#Funciones_puras).\n",
    "A veces necesitamos una variable que almacene el estado.\n",
    "Un caso común es un contador que cuente cuántas veces se ha llamado a la función.\n",
    "Para poder implementar esta funcionalidad podríamos utilizar una variable global que sirviese como contador."
   ]
  },
  {
   "cell_type": "code",
   "execution_count": 12,
   "metadata": {},
   "outputs": [
    {
     "name": "stdout",
     "output_type": "stream",
     "text": [
      "0\n",
      "Hola\n",
      "1\n"
     ]
    }
   ],
   "source": [
    "SALUDOS_EMITIDOS = 0\n",
    "\n",
    "def saluda(saludo):\n",
    "    print(saludo)\n",
    "    global SALUDOS_EMITIDOS\n",
    "    SALUDOS_EMITIDOS += 1\n",
    "    \n",
    "print(SALUDOS_EMITIDOS)\n",
    "saluda('Hola')\n",
    "print(SALUDOS_EMITIDOS)"
   ]
  },
  {
   "cell_type": "markdown",
   "metadata": {},
   "source": [
    "Modificar una variable global puede acabar causando errores muy difíciles de localizar ya que distintas partes del programa pueden haberla alterado.\n",
    "\n",
    "Otra opción es guardar el contador como una variable externa mutable que pasamos a la función.\n",
    "Esta es una mejor solución, pero esto tampoco es una solución ideal ya que el usuario de la función debe ser consciente de que esa variable va a ser modificada por la función, porque le obliga a guardar el contador, una responsabilidad que sería más natural que recayese en la propia función y porque obliga a que la función y el usuario se pongan de acuerdo sobre la estructura de datos que almacena el contador."
   ]
  },
  {
   "cell_type": "code",
   "execution_count": 15,
   "metadata": {},
   "outputs": [
    {
     "name": "stdout",
     "output_type": "stream",
     "text": [
      "hola\n",
      "{'contador': 1}\n"
     ]
    }
   ],
   "source": [
    "def saluda(saludo, saludos_emitidos):\n",
    "    print(saludo)\n",
    "    saludos_emitidos['contador'] += 1\n",
    "    \n",
    "contador = {'contador': 0}\n",
    "saluda('hola', contador)\n",
    "print(contador)"
   ]
  },
  {
   "cell_type": "markdown",
   "metadata": {},
   "source": [
    "Las clases permiten almacenar estados de un modo más natural y permiten aislar la estructura de datos que alberga el estado dentro de la propia clase, convirtiéndola en un detalle de implementación del que no es necesiario informar al usuario."
   ]
  },
  {
   "cell_type": "code",
   "execution_count": 16,
   "metadata": {},
   "outputs": [
    {
     "name": "stdout",
     "output_type": "stream",
     "text": [
      "Hola\n",
      "1\n"
     ]
    }
   ],
   "source": [
    "class Saludo:\n",
    "    def __init__(self, saludo):\n",
    "        self._saludo = saludo\n",
    "        self.saludos_emitidos = 0\n",
    "    def saluda(self):\n",
    "        print(self._saludo)\n",
    "        self.saludos_emitidos += 1\n",
    "\n",
    "saludo = Saludo('Hola')\n",
    "saludo.saluda()\n",
    "print(saludo.saludos_emitidos)"
   ]
  },
  {
   "cell_type": "code",
   "execution_count": null,
   "metadata": {},
   "outputs": [],
   "source": []
  }
 ],
 "metadata": {
  "kernelspec": {
   "display_name": "Python 3",
   "language": "python",
   "name": "python3"
  },
  "language_info": {
   "codemirror_mode": {
    "name": "ipython",
    "version": 3
   },
   "file_extension": ".py",
   "mimetype": "text/x-python",
   "name": "python",
   "nbconvert_exporter": "python",
   "pygments_lexer": "ipython3",
   "version": "3.6.4"
  }
 },
 "nbformat": 4,
 "nbformat_minor": 2
}
