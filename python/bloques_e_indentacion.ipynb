{
 "cells": [
  {
   "cell_type": "markdown",
   "metadata": {},
   "source": [
    "# Boques e indentación\n",
    "\n",
    "## Programación estructurada\n",
    "\n",
    "La [programación estructurada](https://es.wikipedia.org/wiki/Programaci%C3%B3n_estructurada) es un paradigma de programación basado en la idea de dividir el programa en bloques de código.\n",
    "Este paradigma permite mejorar la calidad, la claridad y el tiempo de desarrollo del software y es muy ampliamente utilizado.\n",
    "\n",
    "En programación estructurada los bloques de código son definidos por funciones y dos estructuras de control de flujo básicas la selección (if) y la iteración (bucles for y while).\n",
    "\n",
    "Los [bloques](<https://en.wikipedia.org/wiki/Block_(programming%29)>) de código agrupan una o más sentencias.\n",
    "Además, también se utilizan para limitar los [ámbitos](<https://es.wikipedia.org/wiki/%C3%81mbito_(programaci%C3%B3n%29)>) en los que una variable estará disponible.\n",
    "Un bloque puede incluir otros bloques anidados dentro por lo que definen una estructura jerárquica.\n",
    "\n",
    "Los bloques permiten estructurar un software complejo en unidades y pequeñas subunidades que representan pequeñas ideas que se van combinando para solucionar un problema más complejo.\n",
    "\n",
    "![bloques de código](../imagenes/bloques.png)\n",
    "\n",
    "Distintos lenguajes utilizan distintos métodos para definir los bloques.\n",
    "Se pueden utilizar palabras clave como begin y end.\n",
    "Otra opción, la más usual es utilizar llaves."
   ]
  },
  {
   "cell_type": "markdown",
   "metadata": {},
   "source": [
    "    if( a < 20 ) {printf(\"a es menor que 20\\n\" );}\n",
    "    else {printf(\"a no es menor que 20\\n\" );}"
   ]
  },
  {
   "cell_type": "markdown",
   "metadata": {},
   "source": [
    "Para facilitar al programador la compresión de la estructura de los bloques se suele utilizar el indentado."
   ]
  },
  {
   "cell_type": "markdown",
   "metadata": {},
   "source": [
    "    if( a < 20 ) {\n",
    "        printf(\"a es menor que 20\\n\" );\n",
    "    } else {\n",
    "        printf(\"a no es menor que 20\\n\" );\n",
    "    }"
   ]
  },
  {
   "cell_type": "markdown",
   "metadata": {},
   "source": [
    "En Python se tomó la decisión de prescindir de las llaves y definir los bloques solamente teniendo en cuenta la indentación para fomentar la escritura de código legible.\n",
    "De modo que en Python las instrucciones que forman parte de un bloque de código están definidas por el nivel de indentación.\n",
    "Las sentencias for, if, def y class acaban en dos puntos y en la siguiente línea se inicia un indentado."
   ]
  },
  {
   "cell_type": "code",
   "execution_count": 2,
   "metadata": {},
   "outputs": [
    {
     "name": "stdout",
     "output_type": "stream",
     "text": [
      "a no es menor que 20\n"
     ]
    }
   ],
   "source": [
    "a = 20\n",
    "if a < 20:\n",
    "    print('a es menor que 20')\n",
    "else:\n",
    "    print('a no es menor que 20')"
   ]
  },
  {
   "cell_type": "markdown",
   "metadata": {},
   "source": [
    "Es importante tener la indentación y los bloques en cuenta para entender cómo funciona un programa"
   ]
  },
  {
   "cell_type": "code",
   "execution_count": 3,
   "metadata": {},
   "outputs": [
    {
     "name": "stdout",
     "output_type": "stream",
     "text": [
      "0\n",
      "Dentro del bucle for\n",
      "1\n",
      "Dentro del bucle for\n",
      "2\n",
      "Dentro del bucle for\n",
      "3\n",
      "Dentro del bucle for\n",
      "4\n",
      "Dentro del bucle for\n",
      "Fuera del bucle for\n"
     ]
    }
   ],
   "source": [
    "for idx in range(5):\n",
    "    print(idx)\n",
    "    print('Dentro del bucle for')\n",
    "print('Fuera del bucle for')"
   ]
  },
  {
   "cell_type": "markdown",
   "metadata": {},
   "source": [
    "En Python no se suelen utilizar tabuladores para indentar sino cuatro espacios."
   ]
  }
 ],
 "metadata": {
  "kernelspec": {
   "display_name": "Python 3",
   "language": "python",
   "name": "python3"
  },
  "language_info": {
   "codemirror_mode": {
    "name": "ipython",
    "version": 3
   },
   "file_extension": ".py",
   "mimetype": "text/x-python",
   "name": "python",
   "nbconvert_exporter": "python",
   "pygments_lexer": "ipython3",
   "version": "3.7.2+"
  }
 },
 "nbformat": 4,
 "nbformat_minor": 2
}
