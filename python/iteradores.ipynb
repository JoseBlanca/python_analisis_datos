{
 "cells": [
  {
   "cell_type": "markdown",
   "metadata": {},
   "source": [
    "# Iterables e iteradores\n",
    "\n",
    "Python permite la [iteración](https://docs.python.org/3.6/library/stdtypes.html#iterator-types) sobre muchos tipos de objetos, por ejemplo sobre las listas.\n",
    "El bucle for lo que hace es utilizar esta capacidad para iterar sobre cada uno de los elementos del objeto que está siendo iterado.\n",
    "\n",
    "Cuando estamos iterando a los elementos de un iterador accedemos de uno en uno utilizando la función next y no podemos volver hacia atrás.\n",
    "\n",
    "Los objetos range son un ejemplo de iterable del que podemos obtener un iterador utilizando la función iter.\n",
    "Otro ejemplo de iterador es el objeto file que utilizamos para leer de los ficheros."
   ]
  },
  {
   "cell_type": "code",
   "execution_count": 17,
   "metadata": {},
   "outputs": [
    {
     "name": "stdout",
     "output_type": "stream",
     "text": [
      "range(0, 2)\n"
     ]
    }
   ],
   "source": [
    "numeros = range(2)\n",
    "print(numeros)"
   ]
  },
  {
   "cell_type": "code",
   "execution_count": 18,
   "metadata": {},
   "outputs": [
    {
     "name": "stdout",
     "output_type": "stream",
     "text": [
      "<range_iterator object at 0x10ffa2990>\n"
     ]
    }
   ],
   "source": [
    "numeros = iter(numeros)\n",
    "print(numeros)"
   ]
  },
  {
   "cell_type": "code",
   "execution_count": 19,
   "metadata": {},
   "outputs": [
    {
     "data": {
      "text/plain": [
       "0"
      ]
     },
     "execution_count": 19,
     "metadata": {},
     "output_type": "execute_result"
    }
   ],
   "source": [
    "next(numeros)"
   ]
  },
  {
   "cell_type": "code",
   "execution_count": 20,
   "metadata": {},
   "outputs": [
    {
     "data": {
      "text/plain": [
       "1"
      ]
     },
     "execution_count": 20,
     "metadata": {},
     "output_type": "execute_result"
    }
   ],
   "source": [
    "next(numeros)"
   ]
  },
  {
   "cell_type": "markdown",
   "metadata": {},
   "source": [
    "## Iterable vs iterador\n",
    "\n",
    "Un iterable es una clase de la que podemos crear un iterable utilizando la función iter, su método \\_\\_iter\\_\\_ debe devolver un iterador.\n",
    "\n",
    "Un iterador es un objeto que implementa la interfaz de iteración, los métodos \\_\\_next\\_\\_ e \\_\\_iter\\_\\_.\n",
    "\n",
    "Una lista es un iterable, pero no un iterador."
   ]
  },
  {
   "cell_type": "code",
   "execution_count": null,
   "metadata": {},
   "outputs": [],
   "source": [
    "lista = [1, 2, 3]"
   ]
  },
  {
   "cell_type": "markdown",
   "metadata": {},
   "source": [
    "Podemos generar un iterador a partir de una lista."
   ]
  },
  {
   "cell_type": "code",
   "execution_count": 27,
   "metadata": {},
   "outputs": [],
   "source": [
    "iterador = iter(lista)"
   ]
  },
  {
   "cell_type": "markdown",
   "metadata": {},
   "source": [
    "Pero no podemos iterar una lista porque no es un iterador."
   ]
  },
  {
   "cell_type": "code",
   "execution_count": 28,
   "metadata": {},
   "outputs": [
    {
     "ename": "TypeError",
     "evalue": "'list' object is not an iterator",
     "output_type": "error",
     "traceback": [
      "\u001b[0;31m---------------------------------------------------------------------------\u001b[0m",
      "\u001b[0;31mTypeError\u001b[0m                                 Traceback (most recent call last)",
      "\u001b[0;32m<ipython-input-28-cfa830c9416d>\u001b[0m in \u001b[0;36m<module>\u001b[0;34m()\u001b[0m\n\u001b[0;32m----> 1\u001b[0;31m \u001b[0mnext\u001b[0m\u001b[0;34m(\u001b[0m\u001b[0mlista\u001b[0m\u001b[0;34m)\u001b[0m\u001b[0;34m\u001b[0m\u001b[0m\n\u001b[0m",
      "\u001b[0;31mTypeError\u001b[0m: 'list' object is not an iterator"
     ]
    }
   ],
   "source": [
    "next(lista)"
   ]
  },
  {
   "cell_type": "markdown",
   "metadata": {},
   "source": [
    "Podemos iterar sobre un iterador."
   ]
  },
  {
   "cell_type": "code",
   "execution_count": 29,
   "metadata": {},
   "outputs": [
    {
     "data": {
      "text/plain": [
       "1"
      ]
     },
     "execution_count": 29,
     "metadata": {},
     "output_type": "execute_result"
    }
   ],
   "source": [
    "next(iterador)"
   ]
  },
  {
   "cell_type": "markdown",
   "metadata": {},
   "source": [
    "## No podemos obtener la longitud de un iterador\n",
    "\n",
    "El protocolo de iteración no tiene soporte para la función len ya que al ser el único requisito el de acceder a los elementos de uno en uno no tiene porque saber cuántos elementos se acabarán generando en total."
   ]
  },
  {
   "cell_type": "code",
   "execution_count": 24,
   "metadata": {},
   "outputs": [
    {
     "ename": "TypeError",
     "evalue": "object of type 'range_iterator' has no len()",
     "output_type": "error",
     "traceback": [
      "\u001b[0;31m---------------------------------------------------------------------------\u001b[0m",
      "\u001b[0;31mTypeError\u001b[0m                                 Traceback (most recent call last)",
      "\u001b[0;32m<ipython-input-24-9f2f255e5e7d>\u001b[0m in \u001b[0;36m<module>\u001b[0;34m()\u001b[0m\n\u001b[0;32m----> 1\u001b[0;31m \u001b[0mlen\u001b[0m\u001b[0;34m(\u001b[0m\u001b[0mnumeros\u001b[0m\u001b[0;34m)\u001b[0m\u001b[0;34m\u001b[0m\u001b[0m\n\u001b[0m",
      "\u001b[0;31mTypeError\u001b[0m: object of type 'range_iterator' has no len()"
     ]
    }
   ],
   "source": [
    "len(numeros)"
   ]
  },
  {
   "cell_type": "markdown",
   "metadata": {},
   "source": [
    "## Los iteradores ahorran memoria\n",
    "\n",
    "Una gran ventaja de los iteradores es que al acceder a los elementos de uno en uno no tenemos porque tener esos elementos en memoria antes de comenzar.\n",
    "Por ejemplo, si hacemos un range de un millón de elmentos estos elementos no son creados hasta que no les llega su turno, hasta que no son requeridos por la función next."
   ]
  },
  {
   "cell_type": "markdown",
   "metadata": {},
   "source": [
    "## Los iteradores se consumen\n",
    "\n",
    "A medida que vamos pidiendo elementos a un iterador utilizando la función next éste se va consumiendo y aunque lo tengamos almacenado en otra variable cuando intentemos acceder a él nos daremos cuenta de que se ha agotado total o parcialmente."
   ]
  },
  {
   "cell_type": "code",
   "execution_count": 21,
   "metadata": {},
   "outputs": [
    {
     "data": {
      "text/plain": [
       "1"
      ]
     },
     "execution_count": 21,
     "metadata": {},
     "output_type": "execute_result"
    }
   ],
   "source": [
    "iterador1 = iter([1, 2, 3])\n",
    "iterador2 = iterador1\n",
    "next(iterador1)"
   ]
  },
  {
   "cell_type": "code",
   "execution_count": 22,
   "metadata": {},
   "outputs": [
    {
     "data": {
      "text/plain": [
       "2"
      ]
     },
     "execution_count": 22,
     "metadata": {},
     "output_type": "execute_result"
    }
   ],
   "source": [
    "next(iterador1)"
   ]
  },
  {
   "cell_type": "markdown",
   "metadata": {},
   "source": [
    "Si ahora intentamos utilizar la otra variable que hacía referencia al iterador la iteración continuará por dónde había quedado, no comenzará de nuevo."
   ]
  },
  {
   "cell_type": "code",
   "execution_count": 23,
   "metadata": {},
   "outputs": [
    {
     "data": {
      "text/plain": [
       "3"
      ]
     },
     "execution_count": 23,
     "metadata": {},
     "output_type": "execute_result"
    }
   ],
   "source": [
    "next(iterador2)"
   ]
  },
  {
   "cell_type": "markdown",
   "metadata": {},
   "source": [
    "## Protocolo de iteración\n",
    "\n",
    "Cualquier clase que implemente el protocolo de iteración es un iterador porque se comporta como un iterador.\n",
    "El protocolo de iteración se compone de dos métodos especiales:\n",
    "\n",
    "  - \\_\\_iter\\_\\_ que debe devolver una instancia del propio iterador. Este es el método especial que será invocado por la función iter.\n",
    "  - \\_\\_next\\_\\_ que irá devolviendo los elementos uno a uno al ser llamada la función next. Este método creará una excepción StopIteration cuando ya no queden más objetos."
   ]
  },
  {
   "cell_type": "code",
   "execution_count": 2,
   "metadata": {},
   "outputs": [
    {
     "data": {
      "text/plain": [
       "1"
      ]
     },
     "execution_count": 2,
     "metadata": {},
     "output_type": "execute_result"
    }
   ],
   "source": [
    "lista = [1, 2, 3]\n",
    "iterador = iter(lista)\n",
    "next(iterador)"
   ]
  },
  {
   "cell_type": "code",
   "execution_count": 3,
   "metadata": {},
   "outputs": [
    {
     "data": {
      "text/plain": [
       "2"
      ]
     },
     "execution_count": 3,
     "metadata": {},
     "output_type": "execute_result"
    }
   ],
   "source": [
    "next(iterador)"
   ]
  },
  {
   "cell_type": "code",
   "execution_count": 4,
   "metadata": {},
   "outputs": [
    {
     "data": {
      "text/plain": [
       "3"
      ]
     },
     "execution_count": 4,
     "metadata": {},
     "output_type": "execute_result"
    }
   ],
   "source": [
    "next(iterador)"
   ]
  },
  {
   "cell_type": "code",
   "execution_count": 5,
   "metadata": {},
   "outputs": [
    {
     "ename": "StopIteration",
     "evalue": "",
     "output_type": "error",
     "traceback": [
      "\u001b[0;31m---------------------------------------------------------------------------\u001b[0m",
      "\u001b[0;31mStopIteration\u001b[0m                             Traceback (most recent call last)",
      "\u001b[0;32m<ipython-input-5-2389250a88e0>\u001b[0m in \u001b[0;36m<module>\u001b[0;34m()\u001b[0m\n\u001b[0;32m----> 1\u001b[0;31m \u001b[0mnext\u001b[0m\u001b[0;34m(\u001b[0m\u001b[0miterador\u001b[0m\u001b[0;34m)\u001b[0m\u001b[0;34m\u001b[0m\u001b[0m\n\u001b[0m",
      "\u001b[0;31mStopIteration\u001b[0m: "
     ]
    }
   ],
   "source": [
    "next(iterador)"
   ]
  },
  {
   "cell_type": "markdown",
   "metadata": {},
   "source": [
    "## for y los iteradores\n",
    "\n",
    "for es capaz de funcionar con cualquier iterable.\n",
    "Internamente primero convierte el iterable en un iterador haciendo uso de su método \\_\\_iter\\_\\_ y después consume el iterador usando su método \\_\\_next\\_\\_."
   ]
  },
  {
   "cell_type": "markdown",
   "metadata": {},
   "source": [
    "## Generadores\n",
    "\n",
    "Un generador es una especie de función que se comporta como iterador.\n",
    "Su sintaxis es muy similar a la de una función normal, pero en vez de return utiliza yield."
   ]
  },
  {
   "cell_type": "code",
   "execution_count": 31,
   "metadata": {},
   "outputs": [
    {
     "name": "stdout",
     "output_type": "stream",
     "text": [
      "<generator object un_generador at 0x11002c3b8>\n"
     ]
    }
   ],
   "source": [
    "def un_generador():\n",
    "    yield 1\n",
    "\n",
    "una_instancia_del_generador = un_generador()\n",
    "print(una_instancia_del_generador)"
   ]
  },
  {
   "cell_type": "code",
   "execution_count": 32,
   "metadata": {},
   "outputs": [
    {
     "data": {
      "text/plain": [
       "1"
      ]
     },
     "execution_count": 32,
     "metadata": {},
     "output_type": "execute_result"
    }
   ],
   "source": [
    "next(una_instancia_del_generador)"
   ]
  },
  {
   "cell_type": "code",
   "execution_count": 34,
   "metadata": {},
   "outputs": [
    {
     "ename": "StopIteration",
     "evalue": "",
     "output_type": "error",
     "traceback": [
      "\u001b[0;31m---------------------------------------------------------------------------\u001b[0m",
      "\u001b[0;31mStopIteration\u001b[0m                             Traceback (most recent call last)",
      "\u001b[0;32m<ipython-input-34-3256da51bdd5>\u001b[0m in \u001b[0;36m<module>\u001b[0;34m()\u001b[0m\n\u001b[0;32m----> 1\u001b[0;31m \u001b[0mnext\u001b[0m\u001b[0;34m(\u001b[0m\u001b[0muna_instancia_del_generador\u001b[0m\u001b[0;34m)\u001b[0m\u001b[0;34m\u001b[0m\u001b[0m\n\u001b[0m",
      "\u001b[0;31mStopIteration\u001b[0m: "
     ]
    }
   ],
   "source": [
    "next(una_instancia_del_generador)"
   ]
  },
  {
   "cell_type": "markdown",
   "metadata": {},
   "source": [
    "Podemos pensar en un generador como en una función es llamada cuando utilizamos next y que interrumpe su ejecución cuando llega al yield a la espera del siguiente next."
   ]
  },
  {
   "cell_type": "code",
   "execution_count": 35,
   "metadata": {},
   "outputs": [
    {
     "name": "stdout",
     "output_type": "stream",
     "text": [
      "Hola\n"
     ]
    },
    {
     "data": {
      "text/plain": [
       "1"
      ]
     },
     "execution_count": 35,
     "metadata": {},
     "output_type": "execute_result"
    }
   ],
   "source": [
    "def generador():\n",
    "    print('Hola')\n",
    "    yield 1\n",
    "    print('Caracola')\n",
    "    yield 2\n",
    "\n",
    "objeto_generador = generador()\n",
    "next(objeto_generador)"
   ]
  },
  {
   "cell_type": "code",
   "execution_count": 36,
   "metadata": {},
   "outputs": [
    {
     "name": "stdout",
     "output_type": "stream",
     "text": [
      "Caracola\n"
     ]
    },
    {
     "data": {
      "text/plain": [
       "2"
      ]
     },
     "execution_count": 36,
     "metadata": {},
     "output_type": "execute_result"
    }
   ],
   "source": [
    "next(objeto_generador)"
   ]
  },
  {
   "cell_type": "markdown",
   "metadata": {},
   "source": [
    "### Generadores y programación funcional\n",
    "\n",
    "Los generadores nos permiten hacer programación funcional en Python de un modo muy eficiente.\n",
    "Imaginemos que queremos crear los cuadrados de los mil primeros números naturales.\n",
    "\n",
    "Podemos hacerlo con funciones."
   ]
  },
  {
   "cell_type": "code",
   "execution_count": 40,
   "metadata": {},
   "outputs": [
    {
     "name": "stdout",
     "output_type": "stream",
     "text": [
      "[1, 4, 9, 16, 25, 36, 49, 64, 81, 100]\n"
     ]
    }
   ],
   "source": [
    "def eleva_al_cuadrado(numeros):\n",
    "    cuadrados = []\n",
    "    for numero in numeros:\n",
    "        cuadrados.append(numero**2)\n",
    "    return cuadrados\n",
    "\n",
    "numeros = range(1, 1001)\n",
    "cuadrados = eleva_al_cuadrado(numeros)\n",
    "print(cuadrados[:10])"
   ]
  },
  {
   "cell_type": "markdown",
   "metadata": {},
   "source": [
    "Altenativamente podemos escribir el mismo código utilizando generadores."
   ]
  },
  {
   "cell_type": "code",
   "execution_count": 41,
   "metadata": {},
   "outputs": [
    {
     "name": "stdout",
     "output_type": "stream",
     "text": [
      "<generator object eleva_al_cuadrado at 0x11004cb48>\n"
     ]
    }
   ],
   "source": [
    "def eleva_al_cuadrado(numeros):\n",
    "    for numero in numeros:\n",
    "        yield numero**2\n",
    "\n",
    "numeros = range(1, 1001)\n",
    "cuadrados = eleva_al_cuadrado(numeros)\n",
    "print(cuadrados)"
   ]
  },
  {
   "cell_type": "code",
   "execution_count": 42,
   "metadata": {},
   "outputs": [
    {
     "name": "stdout",
     "output_type": "stream",
     "text": [
      "[1, 4, 9, 16, 25, 36, 49, 64, 81, 100]\n"
     ]
    }
   ],
   "source": [
    "print(list(cuadrados)[:10])"
   ]
  },
  {
   "cell_type": "markdown",
   "metadata": {},
   "source": [
    "El generador tiene varias ventajas:\n",
    "  - Nunca se ha almacenado la lista de cuadrados en memoria. Se ha creado cada cuadrado cuando ha sido demandado por la función usuaria.\n",
    "  - El código es más legible.\n",
    "  - Si necesitamos convertir el resultado en una lista siempre podemos hacerlo con list.\n",
    "  \n",
    "El ahorro de memoria es crítico cuando estamos trabajando con grandes cantidades de datos que no tienen porqué caber en la memoria de nuestro ordenador."
   ]
  },
  {
   "cell_type": "markdown",
   "metadata": {},
   "source": [
    "## map y filter\n",
    "\n",
    "Una ultima forma de programar la misma tarea en Python es usar la función map."
   ]
  },
  {
   "cell_type": "code",
   "execution_count": 43,
   "metadata": {},
   "outputs": [
    {
     "name": "stdout",
     "output_type": "stream",
     "text": [
      "<map object at 0x110058f60>\n"
     ]
    }
   ],
   "source": [
    "def eleva_al_cuadrado_un_numero(numero):\n",
    "    return numero**2\n",
    "\n",
    "numeros = range(1, 1001)\n",
    "cuadrados = map(eleva_al_cuadrado_un_numero, numeros)\n",
    "print(cuadrados)"
   ]
  },
  {
   "cell_type": "code",
   "execution_count": 44,
   "metadata": {},
   "outputs": [
    {
     "name": "stdout",
     "output_type": "stream",
     "text": [
      "[1, 4, 9, 16, 25, 36, 49, 64, 81, 100]\n"
     ]
    }
   ],
   "source": [
    "print(list(cuadrados)[:10])"
   ]
  },
  {
   "cell_type": "markdown",
   "metadata": {},
   "source": [
    "Python disponde de las funciones [map](https://docs.python.org/3.6/library/functions.html#map) y [filter](https://docs.python.org/3.6/library/functions.html#filter) para hacer programación funcional."
   ]
  },
  {
   "cell_type": "markdown",
   "metadata": {},
   "source": [
    "## Itertools\n",
    "\n",
    "El módulo [itertools](https://docs.python.org/3/library/itertools.html) dispone de una rica funcionalidad para trabajar con iteradores en Python."
   ]
  },
  {
   "cell_type": "code",
   "execution_count": null,
   "metadata": {},
   "outputs": [],
   "source": []
  }
 ],
 "metadata": {
  "kernelspec": {
   "display_name": "Python 3",
   "language": "python",
   "name": "python3"
  },
  "language_info": {
   "codemirror_mode": {
    "name": "ipython",
    "version": 3
   },
   "file_extension": ".py",
   "mimetype": "text/x-python",
   "name": "python",
   "nbconvert_exporter": "python",
   "pygments_lexer": "ipython3",
   "version": "3.6.4"
  }
 },
 "nbformat": 4,
 "nbformat_minor": 2
}
