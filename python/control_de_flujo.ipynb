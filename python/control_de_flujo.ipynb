{
 "cells": [
  {
   "cell_type": "markdown",
   "metadata": {},
   "source": [
    "# Control de flujo\n",
    "\n",
    "El flujo de un programa es el orden en el que se ejecutan las instrucciones que componen el código de un programa.\n",
    "Por defecto las instrucciones se ejecutan consecutivamente, empezando por la primera y continuando por la segunda, la tercera, etc.\n",
    "\n",
    "El flujo de ejecución puede alterarse utilizando instrucciones que nos permiten seleccionar un bloque de código frente a otro, como la instrucción if, o por instrucciones que nos permiten repetir varias veces la ejecución del mismo código, como las instrucciones for y while.\n",
    "\n",
    "## if\n",
    "\n",
    "La sentencia if permite elegir ejecutar un bloque del programa u otro en función de que la condición que evalúa sea cierta o falsa.\n",
    "En su versión más simple if simplemente determina si el código se ejecutará o no."
   ]
  },
  {
   "cell_type": "code",
   "execution_count": 1,
   "metadata": {},
   "outputs": [],
   "source": [
    "numero = 20\n",
    "if numero < 20:\n",
    "    print('El número es menor de 20')"
   ]
  },
  {
   "cell_type": "code",
   "execution_count": 2,
   "metadata": {},
   "outputs": [
    {
     "name": "stdout",
     "output_type": "stream",
     "text": [
      "El numero es 20\n"
     ]
    }
   ],
   "source": [
    "if numero == 20:\n",
    "    print('El numero es 20')"
   ]
  },
  {
   "cell_type": "markdown",
   "metadata": {},
   "source": [
    "También se puede hacer uso de else para ejecutar un bloque alternativo."
   ]
  },
  {
   "cell_type": "code",
   "execution_count": 4,
   "metadata": {},
   "outputs": [
    {
     "name": "stdout",
     "output_type": "stream",
     "text": [
      "El numero es positivo o cero\n"
     ]
    }
   ],
   "source": [
    "if numero < 0:\n",
    "    print('El número es negativo')\n",
    "else:\n",
    "    print('El número es positivo o cero')"
   ]
  },
  {
   "cell_type": "markdown",
   "metadata": {},
   "source": [
    "if también permite evaluar varios casos."
   ]
  },
  {
   "cell_type": "code",
   "execution_count": 1,
   "metadata": {},
   "outputs": [
    {
     "name": "stdout",
     "output_type": "stream",
     "text": [
      "Podemos contarlo con los dedos de una mano\n"
     ]
    }
   ],
   "source": [
    "numero = 3\n",
    "if numero < 0:\n",
    "    print('El número es negativo')\n",
    "elif 0 < numero <= 5:\n",
    "    print('Podemos contarlo con los dedos de una mano')\n",
    "else:\n",
    "    print('El número es cero o mayor de cinco')"
   ]
  },
  {
   "cell_type": "markdown",
   "metadata": {},
   "source": [
    "Cualquier expresión incluida dentro de la sección de evaluación del if será convertida a un booleano por lo que la sentencia if puede incluir variables."
   ]
  },
  {
   "cell_type": "code",
   "execution_count": 5,
   "metadata": {},
   "outputs": [
    {
     "name": "stdout",
     "output_type": "stream",
     "text": [
      "El número es 0\n"
     ]
    }
   ],
   "source": [
    "numero = 0\n",
    "if numero:\n",
    "    print('El número no es 0')\n",
    "else:\n",
    "    print('El número es 0')"
   ]
  },
  {
   "cell_type": "markdown",
   "metadata": {},
   "source": [
    "## for\n",
    "\n",
    "La instrucción for permite ejecutar un bloque de código en repetidas ocasiones."
   ]
  },
  {
   "cell_type": "code",
   "execution_count": 9,
   "metadata": {},
   "outputs": [
    {
     "name": "stdout",
     "output_type": "stream",
     "text": [
      "1\n",
      "2\n",
      "3\n"
     ]
    }
   ],
   "source": [
    "for idx in [1, 2, 3]:\n",
    "    print(idx)"
   ]
  },
  {
   "cell_type": "markdown",
   "metadata": {},
   "source": [
    "En Python for, a diferencia de en otros lenguajes, for siempre actua sobre una serie de elementos presentes en un iterador.\n",
    "Este iterador puede ser por ejemplo una lista."
   ]
  },
  {
   "cell_type": "code",
   "execution_count": 7,
   "metadata": {},
   "outputs": [
    {
     "name": "stdout",
     "output_type": "stream",
     "text": [
      "a\n",
      "b\n",
      "c\n"
     ]
    }
   ],
   "source": [
    "for letra in ['a', 'b', 'c']:\n",
    "    print(letra)"
   ]
  },
  {
   "cell_type": "markdown",
   "metadata": {},
   "source": [
    "Un iterador muy utilizado, para obtener una funcionalidad similar a la del for de otros lenguajes de programación, es el creado por [range](https://docs.python.org/3/library/functions.html#func-range)."
   ]
  },
  {
   "cell_type": "code",
   "execution_count": 10,
   "metadata": {},
   "outputs": [
    {
     "name": "stdout",
     "output_type": "stream",
     "text": [
      "1\n",
      "2\n",
      "3\n"
     ]
    }
   ],
   "source": [
    "for idx in range(1, 4):\n",
    "    print(idx)"
   ]
  },
  {
   "cell_type": "markdown",
   "metadata": {},
   "source": [
    "### enumerate y zip\n",
    "\n",
    "Si deseamos obtener el índice del elemento además del elemento en sí podemos utilizar [enumerate](https://docs.python.org/3/library/functions.html#enumerate)."
   ]
  },
  {
   "cell_type": "code",
   "execution_count": 12,
   "metadata": {},
   "outputs": [
    {
     "name": "stdout",
     "output_type": "stream",
     "text": [
      "0 a\n",
      "1 b\n",
      "2 c\n"
     ]
    }
   ],
   "source": [
    "letras = ['a', 'b', 'c']\n",
    "for idx, letra in enumerate(letras):\n",
    "    print(idx, letra)"
   ]
  },
  {
   "cell_type": "markdown",
   "metadata": {},
   "source": [
    "Una función muy útil si queremos recorrer dos iteradores en paralelo es [zip](https://docs.python.org/3/library/functions.html#zip)."
   ]
  },
  {
   "cell_type": "code",
   "execution_count": 14,
   "metadata": {},
   "outputs": [
    {
     "name": "stdout",
     "output_type": "stream",
     "text": [
      "a 3\n",
      "b 4\n",
      "c 5\n"
     ]
    }
   ],
   "source": [
    "letras = ['a', 'b', 'c']\n",
    "numeros = [3, 4, 5]\n",
    "for letra, numero in zip(letras, numeros):\n",
    "    print(letra, numero)"
   ]
  },
  {
   "cell_type": "markdown",
   "metadata": {},
   "source": [
    "### break y continue\n",
    "\n",
    "En algunas ocasiones puede que nos interese controlar la ejecución los bucles con más detalle.\n",
    "Disponemos de dos sentencias que nos permiten modificar el flujo de ejecución del bucle continue y break. continue hace que la iteración actual se detenga y se devuelva el flujo del programa al comienzo del bucle con la siguiente iteración.\n",
    "Por ejemplo, si quisiésemos leer un fichero con una cabecera en la primera línea y quisiéramos ignorar tanto la primera línea como las posibles líneas en blanco que aparezcan, podríamos hacer:"
   ]
  },
  {
   "cell_type": "code",
   "execution_count": 38,
   "metadata": {},
   "outputs": [
    {
     "name": "stdout",
     "output_type": "stream",
     "text": [
      "Esta línea no es de la cabezera -> hola\n",
      "Una línea vacía\n",
      "Esta línea no es de la cabezera -> caracola\n"
     ]
    }
   ],
   "source": [
    "from io import StringIO\n",
    "fichero = StringIO('primera\\nhola\\n\\ncaracola\\n')\n",
    "\n",
    "primera_linea = True   #cuando entremos en el bucle\n",
    "                       #estaremos analizando la primera linea\n",
    "for linea in fichero:\n",
    "    if primera_linea:\n",
    "        primera_linea = False  #en este momento ya hemos analizado\n",
    "                               #la primera linea.\n",
    "                               #en realidad solo pretendemos ignorarla\n",
    "        continue    #ya no se ejecutara nada mas en esta iteracion\n",
    "                    #desde aqui el flujo del programa vuelve al for\n",
    "    linea = linea.strip()  #eliminamos el retorno de carro y los espacios\n",
    "                           #en blanco de principio y el final de la linea\n",
    "    if not linea:   #Si la linea esta vacia:\n",
    "        print('Una línea vacía')\n",
    "        continue        # no ejecutar nada mas en esta iteracion\n",
    "    #a partir de aqui procesariamos las lineas del cuerpo del archivo.\n",
    "    print('Esta línea no es de la cabezera ->', linea)"
   ]
  },
  {
   "cell_type": "markdown",
   "metadata": {},
   "source": [
    "break permite abortar el bucle en cualquier momento aunque queden más elementos por analizar. A diferencia de continue el bucle no continuará con el siguiente elemento, el flujo del programa saltará a la siguiente línea después del for."
   ]
  },
  {
   "cell_type": "code",
   "execution_count": 39,
   "metadata": {},
   "outputs": [
    {
     "name": "stdout",
     "output_type": "stream",
     "text": [
      "Solo esta línea se imprimirá\n",
      "Después del break se continua por aquí\n"
     ]
    }
   ],
   "source": [
    "for numero in range(1000):\n",
    "    print('Solo esta línea se imprimirá')\n",
    "    break\n",
    "    print('Esta línea nunca se imprimirá')\n",
    "print('Después del break se continua por aquí')"
   ]
  },
  {
   "cell_type": "markdown",
   "metadata": {},
   "source": [
    "### Funcionamiento interno de for\n",
    "\n",
    "Un [iterador](https://docs.python.org/3/c-api/iter.html) es cualquier objeto que va devolviendo resultados secuencialmente al llamar a su método next y que al acabar los elementos que debe devolver lanza una excepción StopIteration.\n",
    "for internamente llama al método next del iterador hasta éste le devuelve una excepción StopIteration, que for interpreta como el final de la secuencia."
   ]
  },
  {
   "cell_type": "code",
   "execution_count": 30,
   "metadata": {},
   "outputs": [
    {
     "name": "stdout",
     "output_type": "stream",
     "text": [
      "Primer ejemplo\n",
      "3\n",
      "4\n",
      "Segundo ejemplo\n",
      "2\n",
      "3\n",
      "Ahora viene la excepción StopIteration\n"
     ]
    },
    {
     "ename": "StopIteration",
     "evalue": "",
     "output_type": "error",
     "traceback": [
      "\u001b[0;31m---------------------------------------------------------------------------\u001b[0m",
      "\u001b[0;31mStopIteration\u001b[0m                             Traceback (most recent call last)",
      "\u001b[0;32m<ipython-input-30-746d1f226ce4>\u001b[0m in \u001b[0;36m<module>\u001b[0;34m()\u001b[0m\n\u001b[1;32m     25\u001b[0m \u001b[0mprint\u001b[0m\u001b[0;34m(\u001b[0m\u001b[0mnext\u001b[0m\u001b[0;34m(\u001b[0m\u001b[0motros_numeros\u001b[0m\u001b[0;34m)\u001b[0m\u001b[0;34m)\u001b[0m\u001b[0;34m\u001b[0m\u001b[0m\n\u001b[1;32m     26\u001b[0m \u001b[0mprint\u001b[0m\u001b[0;34m(\u001b[0m\u001b[0;34m'Ahora viene la excepción StopIteration'\u001b[0m\u001b[0;34m)\u001b[0m\u001b[0;34m\u001b[0m\u001b[0m\n\u001b[0;32m---> 27\u001b[0;31m \u001b[0mprint\u001b[0m\u001b[0;34m(\u001b[0m\u001b[0mnext\u001b[0m\u001b[0;34m(\u001b[0m\u001b[0motros_numeros\u001b[0m\u001b[0;34m)\u001b[0m\u001b[0;34m)\u001b[0m\u001b[0;34m\u001b[0m\u001b[0m\n\u001b[0m",
      "\u001b[0;32m<ipython-input-30-746d1f226ce4>\u001b[0m in \u001b[0;36m__next__\u001b[0;34m(self)\u001b[0m\n\u001b[1;32m     13\u001b[0m             \u001b[0;32mreturn\u001b[0m \u001b[0mself\u001b[0m\u001b[0;34m.\u001b[0m\u001b[0mactual\u001b[0m\u001b[0;34m\u001b[0m\u001b[0m\n\u001b[1;32m     14\u001b[0m         \u001b[0;32melse\u001b[0m\u001b[0;34m:\u001b[0m\u001b[0;34m\u001b[0m\u001b[0m\n\u001b[0;32m---> 15\u001b[0;31m             \u001b[0;32mraise\u001b[0m \u001b[0mStopIteration\u001b[0m\u001b[0;34m(\u001b[0m\u001b[0;34m)\u001b[0m\u001b[0;34m\u001b[0m\u001b[0m\n\u001b[0m\u001b[1;32m     16\u001b[0m \u001b[0;34m\u001b[0m\u001b[0m\n\u001b[1;32m     17\u001b[0m \u001b[0mprint\u001b[0m\u001b[0;34m(\u001b[0m\u001b[0;34m'Primer ejemplo'\u001b[0m\u001b[0;34m)\u001b[0m\u001b[0;34m\u001b[0m\u001b[0m\n",
      "\u001b[0;31mStopIteration\u001b[0m: "
     ]
    }
   ],
   "source": [
    "class MiRango:\n",
    "    def __init__(self, inicio, fin):\n",
    "        self.inicio = inicio\n",
    "        self.actual = inicio\n",
    "        self.fin = fin\n",
    "\n",
    "    def __iter__(self):\n",
    "        return self\n",
    "\n",
    "    def __next__(self):\n",
    "        if self.actual < self.fin:\n",
    "            self.actual += 1\n",
    "            return self.actual\n",
    "        else:\n",
    "            raise StopIteration()\n",
    "\n",
    "print('Primer ejemplo')\n",
    "numeros = MiRango(2, 4)\n",
    "for numero in numeros:\n",
    "    print(numero)\n",
    "\n",
    "print('Segundo ejemplo')\n",
    "otros_numeros = MiRango(1, 3)\n",
    "print(next(otros_numeros))\n",
    "print(next(otros_numeros))\n",
    "print('Ahora viene la excepción StopIteration')\n",
    "print(next(otros_numeros))\n"
   ]
  },
  {
   "cell_type": "markdown",
   "metadata": {},
   "source": [
    "## while"
   ]
  },
  {
   "cell_type": "markdown",
   "metadata": {},
   "source": [
    "while es otro tipo de bucle. En este caso el bloque de código se ejecutará mientras la condición sea verdadera."
   ]
  },
  {
   "cell_type": "code",
   "execution_count": 40,
   "metadata": {},
   "outputs": [
    {
     "name": "stdout",
     "output_type": "stream",
     "text": [
      "0\n",
      "1\n"
     ]
    }
   ],
   "source": [
    "idx = 0\n",
    "while idx < 2:\n",
    "    print(idx)\n",
    "    idx += 1        "
   ]
  }
 ],
 "metadata": {
  "kernelspec": {
   "display_name": "Python 3",
   "language": "python",
   "name": "python3"
  },
  "language_info": {
   "codemirror_mode": {
    "name": "ipython",
    "version": 3
   },
   "file_extension": ".py",
   "mimetype": "text/x-python",
   "name": "python",
   "nbconvert_exporter": "python",
   "pygments_lexer": "ipython3",
   "version": "3.7.2+"
  }
 },
 "nbformat": 4,
 "nbformat_minor": 2
}
