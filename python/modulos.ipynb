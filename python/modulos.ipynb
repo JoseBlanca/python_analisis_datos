{
 "cells": [
  {
   "cell_type": "markdown",
   "metadata": {},
   "source": [
    "# Modulos y módulos estándar\n",
    "\n",
    "Python dispone de un ecosistema de paquetes y módulos con una amplia funcionalidad lista para ser utilizada en nuestros programas.\n",
    "\n",
    "## Necesidad de dividir el código en módulos\n",
    "\n",
    "Cuando vamos a escribir un programa, además de disponer de las sentencias y funciones que constituyen el lenguaje de programación podemos hacer uso del código anterior que nosotros mismos u otros usuarios hayan generado.\n",
    "Por ejemplo, si alguien ya ha escrito una función que calcula la media y la varianza de una lista de números sería absurdo escribir otra función que haga lo mismo, especialmente y la primera función ya ha sido probada por mucha gente y está bien mantenida.\n",
    "\n",
    "Una alternativa sencilla sería copiar la función desde el programa anterior. Esto, que puede funcionar para problemas sencillos, sería muy complicado de mantener para proyectos un poco más grandes.\n",
    "¿Qué pasa si el código lo ha escrito otro?\n",
    "¿Y si la funcionalidad no está escrita en unas pocas líneas sino que es algo complejo?\n",
    "¿Si se soluciona un fallo en la función original debemos estar atentos y arreglar también nuestra copia?\n",
    "\n",
    "Además de importar funciones de otros programas podemos utilizar los módulos para dividir un programa complejo en partes sencillas.\n",
    "Resultaría muy complicado organizar un programa de miles de líneas en un solo fichero.\n",
    "En este caso lo más recomendable sería dividir este programa en módulos y utilizar import para importar las funcionalidades de unos en otros.\n",
    "\n",
    "## Módulos\n",
    "\n",
    "Los ficheros en los que dividimos el código y que incluyen estas funcionalidades extra se llaman [módulos](https://docs.python.org/3/tutorial/modules.html).\n",
    "Un módulo es un fichero con funciones y clases listas para ser importadas.\n",
    "\n",
    "En Python utilizar una función de un programa anterior es muy sencillo, simplemente hemos de importarla al nuevo programa.\n",
    "Supongamos que tiempo atrás escribimos un programa llamado analisis_estadístico que incluía una función llamada calcular_media_y_varianza, para poder utilizar esta función en un nuevo programa lo que debemos hacer es importarla."
   ]
  },
  {
   "cell_type": "code",
   "execution_count": 2,
   "metadata": {},
   "outputs": [
    {
     "data": {
      "text/plain": [
       "1.0"
      ]
     },
     "execution_count": 2,
     "metadata": {},
     "output_type": "execute_result"
    }
   ],
   "source": [
    "from math import log10\n",
    "log10(10)"
   ]
  },
  {
   "cell_type": "markdown",
   "metadata": {},
   "source": [
    "A partir de este momento podremos utilizar la función como si la hubiésemos escrito en nuestro nuevo programa.\n",
    "\n",
    "La sintaxis anterior no es la única, otra posibilidad es:"
   ]
  },
  {
   "cell_type": "code",
   "execution_count": 3,
   "metadata": {},
   "outputs": [
    {
     "data": {
      "text/plain": [
       "1.0"
      ]
     },
     "execution_count": 3,
     "metadata": {},
     "output_type": "execute_result"
    }
   ],
   "source": [
    "import math\n",
    "\n",
    "math.log10(10)"
   ]
  },
  {
   "cell_type": "markdown",
   "metadata": {},
   "source": [
    "## Paquetes\n",
    "\n",
    "Cuando las librerías son grandes y tienen muchos módulos resulta conveniente organizarlos en directorios y subdirectorios.\n",
    "Un directorio con módulos se denomina [paquete](https://docs.python.org/3/tutorial/modules.html#packages).\n",
    "El único requisito para que un directorio sea tratado por Python como un paquete es que incluya un fichero denominado \\_\\_init\\_\\_.py.\n",
    "Este fichero puede estar vacío."
   ]
  },
  {
   "cell_type": "markdown",
   "metadata": {},
   "source": [
    "## Rutas con módulos y paquetes\n",
    "\n",
    "El intérprete busca busca los módulos y paquetes en la variable [sys.path](https://docs.python.org/3/library/sys.html#sys.path).\n",
    "El orden de búsqueda es:\n",
    "\n",
    "  - El directorio en el que el script está siendo corrido\n",
    "  - La librería estándar\n",
    "  - Los directorios incluidos en la variable de entorno PYTHONPATH\n",
    " \n",
    "Una vez que un programa está corriendo puede alterar la variable sys.path.\n",
    "\n",
    "## Librería estándar\n",
    "\n",
    "Python dispone de un gran número de funcionalidades listas para ser importadas.\n",
    "Se suele decir que Python viene con las pilas incluidas por la cantidad de funciones que incluyen sus librerías.\n",
    "Disponemos de una lista de todos los paquetes distribuidos con la instalación estándar de Python en su [documentación](https://docs.python.org/3/library/index.html).\n",
    "\n",
    "Algunos de los módulos de la librería estándar que nos pueden ser de más utilidad a la hora de hacer nuestros propios programas son:\n",
    "\n",
    "  - [pathlib](https://docs.python.org/3/library/pathlib.html), manipulación de rutas, listado y creación de directorios\n",
    "  - [subprocess](https://docs.python.org/3/library/subprocess.html), ejecución de programas externos.\n",
    "  - [sys](https://docs.python.org/3/library/sys.html), interacción con el shell.\n",
    "  - [csv](https://docs.python.org/3/library/csv.html), lectura y escritura de ficheros CSV.\n",
    "  - [tempfile](https://docs.python.org/3/library/tempfile.html), creación de ficheros temporales.\n",
    "  - [math](https://docs.python.org/3/library/math.html), funciones matemáticas extra.\n",
    "\n",
    "## PyPI\n",
    "\n",
    "Muchos de los paquetes desarrollados por la comunidad se pueden encontrar en el índice de paquetes de Python, [PyPI](https://pypi.python.org/pypi).\n",
    "\n",
    "## pip\n",
    "\n",
    "El instalador recomendado por los desarrolladores de Python es la herramienta [pip](https://docs.python.org/3/installing/index.html#basic-usage)."
   ]
  },
  {
   "cell_type": "raw",
   "metadata": {},
   "source": [
    "python -m pip install SomePackage"
   ]
  },
  {
   "cell_type": "markdown",
   "metadata": {},
   "source": [
    "## Anaconda y conda\n",
    "\n",
    "[Anaconda](https://www.anaconda.com/what-is-anaconda/) es una distribución de Python que incluye numerosos paquetes útiles para el análisis de datos.\n",
    "\n",
    "[conda](https://conda.io/docs/) es un sistema de manejo de paquetes alternativo a las herramientas incluidas con Python."
   ]
  },
  {
   "cell_type": "markdown",
   "metadata": {},
   "source": [
    "## Entornos virtuales\n",
    "\n",
    "Un [entorno virtual](https://docs.python.org/3/library/venv.html#venv-def) de Python es un directorio, con sus subdirectorios, con su propio interprete de Python en el que las librerías y los scripts se instalan aisladas del resto del sistema.\n",
    "\n",
    "La herramienta de instalación pip está preparada para funcionar en estos entornos por lo que si la utilizamos mientras que estamos usando un entorno vitual los paquetes que instalemos estarán localizados en el entorno virtual.\n",
    "\n",
    "Estos entornos nos permiten tener diversas versiones del interprete de Python, de las librerías con las que estemos instalando y están aislados del resto del sistema operativo por lo que no requerimos permisos de administración para controlarlos.\n",
    "\n",
    "La herramienta para crear estos entornos es [venv](https://docs.python.org/3/library/venv.html) y está incluida dentro de la distribución de Python."
   ]
  }
 ],
 "metadata": {
  "kernelspec": {
   "display_name": "Python 3",
   "language": "python",
   "name": "python3"
  },
  "language_info": {
   "codemirror_mode": {
    "name": "ipython",
    "version": 3
   },
   "file_extension": ".py",
   "mimetype": "text/x-python",
   "name": "python",
   "nbconvert_exporter": "python",
   "pygments_lexer": "ipython3",
   "version": "3.7.2+"
  }
 },
 "nbformat": 4,
 "nbformat_minor": 2
}
