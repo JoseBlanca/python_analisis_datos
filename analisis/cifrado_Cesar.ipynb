{
 "cells": [
  {
   "cell_type": "markdown",
   "metadata": {},
   "source": [
    "# 1. El cifrado César\n",
    "<img style=\"float: left;\" src=\"https://upload.wikimedia.org/wikipedia/commons/b/be/Bust_of_Gaius_Iulius_Caesar_in_Naples.jpg\" width=\"210\">\n",
    "<br> \n",
    "Un criptograma es un mensaje que usa un código secreto.  El código se basa en un **algoritmo de cifrado/descifrado** a partir de una **clave** que permite tanto cifrar/descifrar los mensajes. Uno de los cifradores/descifradores más conocidos sea quizás la máquina **Enigma** utilizada por las fuerzas alemanas a partir de la segunda mitad de los años 20 y cuyo código fue descifrado gracias a los trabajos del grupo de **Alan Turing** permitiendo así, por primera vez en la Historia que unos programadores ganaran una guerra mundial.  \n",
    "<br>\n",
    "Pero la historia del cifrado es muy antigua y en este ejercicio vamos a explorar el *cifrado César* que recibe su nombre en honor a **Julio Cesar**. Según los historiadores griegos antiguos, JC lo habría usado para enviar mensajes importantes a sus generales durante los tiempos de guerra. El cifrado César desplaza cada letra del mensaje a otra letra del alfabeto localizada a una distancia fija de la original. Por ejemplo, si la clave de cifrado fuera 1, la *h* cambiaría a *i*, *i* cambiaría a *j*, la *j* a *k*, etc. Al llegar a la última letra, que en nuestro caso consideraremos el espacio en blanco, simplemente volvemos a la letra *a*. Para descifrar el mensaje, debemos hacer un desplazamiento similar, excepto que ahora el sentido será de 1 posición hacia atrás en el alfabeto. \n",
    "<br>\n",
    "\n",
    "En este ejercicio vamos a crear nuestro propio cifrado César además del algoritmo de descifrado para decodificar el mensaje. (Foto: Busto, Museo Nacional Arqueológico de Napoles, [Wikipedia](https://es.wikipedia.org/wiki/Cifrado_César)).\n"
   ]
  },
  {
   "cell_type": "code",
   "execution_count": 1,
   "metadata": {
    "collapsed": false
   },
   "outputs": [
    {
     "data": {
      "text/plain": [
       "'abcdefghijklmnopqrstuvwxyz'"
      ]
     },
     "execution_count": 1,
     "metadata": {},
     "output_type": "execute_result"
    }
   ],
   "source": [
    "# Importar librería string\n",
    "import string\n",
    "\n",
    "# Ver las letras minúsculas\n",
    "string.ascii_lowercase"
   ]
  },
  {
   "cell_type": "markdown",
   "metadata": {
    "collapsed": true
   },
   "source": [
    "Consideraremos nuestro alfabeto como el conjunto de las letras minúsculas y el espacio en blanco."
   ]
  },
  {
   "cell_type": "code",
   "execution_count": 2,
   "metadata": {
    "collapsed": false
   },
   "outputs": [],
   "source": [
    "# Concatenar las letras minúsculas con el espacio en blanco (\" \") y asignarlo a la variable 'alfabeto'.\n",
    "alfabeto = string.ascii_lowercase + \" \""
   ]
  },
  {
   "cell_type": "markdown",
   "metadata": {},
   "source": [
    "\n"
   ]
  },
  {
   "cell_type": "markdown",
   "metadata": {},
   "source": [
    "Operaciones básicas con secuencias: ver la longitud de la secuencia, indexar los 5 primeros elementos, indexar los 5 últimos elementos."
   ]
  },
  {
   "cell_type": "code",
   "execution_count": 3,
   "metadata": {
    "collapsed": false
   },
   "outputs": [
    {
     "data": {
      "text/plain": [
       "'wxyz '"
      ]
     },
     "execution_count": 3,
     "metadata": {},
     "output_type": "execute_result"
    }
   ],
   "source": [
    "# Averiguar cúantos elementos contiene alfabeto\n",
    "len(alfabeto)\n",
    "# Indexar los 5 primeros elementos de alfabeto\n",
    "alfabeto[0:5]\n",
    "# Indexar los 5 primeros elementos de alfabeto\n",
    "alfabeto[-5:]"
   ]
  },
  {
   "cell_type": "markdown",
   "metadata": {},
   "source": [
    "# Cifrando el mensaje: diccionarios y secuencias"
   ]
  },
  {
   "cell_type": "markdown",
   "metadata": {},
   "source": [
    "Una forma directa de mapear cada letra de *alfabeto* con la posición determinada que ocupa en la secuencia es mediante un **diccionario**. En este apartado crearemos 2 diccionarios. En el primero, usaremos como **clave** la posición que cada letra de *alfabeto* ocupa en la secuencia y como **valor** la propia letra. A continuación, crearemos un nuevo diccionario donde las posiciones de cada letra del alfabeto cambiarán según la clave usada en el cifrado César. "
   ]
  },
  {
   "cell_type": "code",
   "execution_count": 4,
   "metadata": {
    "collapsed": true
   },
   "outputs": [],
   "source": [
    "# Crear el diccionario 'posición' usando como como valor la letra de 'alfabeto' y como clave la posición que la \n",
    "# letra ocupa en 'alfabeto'.\n",
    "\n",
    "posicion = dict()\n",
    "\n",
    "for i in range(len(alfabeto)):\n",
    "    posicion[i] = alfabeto[i]\n"
   ]
  },
  {
   "cell_type": "code",
   "execution_count": 5,
   "metadata": {
    "collapsed": false
   },
   "outputs": [
    {
     "name": "stdout",
     "output_type": "stream",
     "text": [
      "{0: 'a', 1: 'b', 2: 'c', 3: 'd', 4: 'e', 5: 'f', 6: 'g', 7: 'h', 8: 'i', 9: 'j', 10: 'k', 11: 'l', 12: 'm', 13: 'n', 14: 'o', 15: 'p', 16: 'q', 17: 'r', 18: 's', 19: 't', 20: 'u', 21: 'v', 22: 'w', 23: 'x', 24: 'y', 25: 'z', 26: ' '}\n"
     ]
    }
   ],
   "source": [
    "# Imprimir el diccionario 'posicion'\n",
    "print(posicion)"
   ]
  },
  {
   "cell_type": "code",
   "execution_count": 6,
   "metadata": {
    "collapsed": true
   },
   "outputs": [],
   "source": [
    "## Forma más pythonica de crear 'posicion'\n",
    "# posicion2 = dict(enumerate(alfabeto))\n",
    "# print(posicion2)"
   ]
  },
  {
   "cell_type": "markdown",
   "metadata": {},
   "source": [
    "<br>"
   ]
  },
  {
   "cell_type": "markdown",
   "metadata": {},
   "source": [
    "Ahora crearemos el **algoritmo de cifrado** que se basa en una clave *C* ('clave del cifrado César') y consiste en el desplazamiento que cada letra del mensaje original tendrá en el mensaje cifrado."
   ]
  },
  {
   "cell_type": "markdown",
   "metadata": {},
   "source": [
    "Si por ejemplo, C = 3 y las posiciones originales son [0:5], las nuevas posiciones de esas mismas letras en el mensaje cifrado serán:"
   ]
  },
  {
   "cell_type": "code",
   "execution_count": 7,
   "metadata": {
    "collapsed": false
   },
   "outputs": [
    {
     "name": "stdout",
     "output_type": "stream",
     "text": [
      "0 --> 3\n",
      "1 --> 4\n",
      "2 --> 5\n",
      "3 --> 6\n",
      "4 --> 7\n"
     ]
    }
   ],
   "source": [
    "C = 3\n",
    "for i in range(0,5):       # loop desde las posiciones inicial -> final\n",
    "    print i, '-->', i+C    # clave original de la letra --> nueva clave que toma la letra en el mensaje cifrado"
   ]
  },
  {
   "cell_type": "markdown",
   "metadata": {},
   "source": [
    "Para crear el algoritmo de cifrado, usaremos 5 pasos en los cuales se tratará un problema diferente:  \n",
    "* *for loop* sin superar un umbral\n",
    "* *for loop* con el resto de elementos\n",
    "* creación de un **diccionario**\n",
    "* cifrado de mensaje mediante una **secuencia**\n",
    "* encapsulando el código en una **función**\n"
   ]
  },
  {
   "cell_type": "markdown",
   "metadata": {},
   "source": [
    "### Paso1: loop sin superar un umbral\n",
    "Hay que tener en cuenta que cuando la nueva posición en el mensaje cifrado supera el número de elementos que contiene \n",
    "el *alfabeto*, volvemos a contar a partir de la letra 'a'. Entonces, en primer lugar averiguaremos las nuevas \n",
    "posiciones del mensaje cifrado pero **sin superar el número de elementos que contiene *alfabeto* **."
   ]
  },
  {
   "cell_type": "code",
   "execution_count": 8,
   "metadata": {
    "collapsed": false
   },
   "outputs": [
    {
     "name": "stdout",
     "output_type": "stream",
     "text": [
      "0 --> 3  es decir a --> d\n",
      "1 --> 4  es decir b --> e\n",
      "2 --> 5  es decir c --> f\n",
      "3 --> 6  es decir d --> g\n",
      "4 --> 7  es decir e --> h\n",
      "5 --> 8  es decir f --> i\n",
      "6 --> 9  es decir g --> j\n",
      "7 --> 10  es decir h --> k\n",
      "8 --> 11  es decir i --> l\n",
      "9 --> 12  es decir j --> m\n",
      "10 --> 13  es decir k --> n\n",
      "11 --> 14  es decir l --> o\n",
      "12 --> 15  es decir m --> p\n",
      "13 --> 16  es decir n --> q\n",
      "14 --> 17  es decir o --> r\n",
      "15 --> 18  es decir p --> s\n",
      "16 --> 19  es decir q --> t\n",
      "17 --> 20  es decir r --> u\n",
      "18 --> 21  es decir s --> v\n",
      "19 --> 22  es decir t --> w\n",
      "20 --> 23  es decir u --> x\n",
      "21 --> 24  es decir v --> y\n",
      "22 --> 25  es decir w --> z\n",
      "23 --> 26  es decir x -->  \n"
     ]
    }
   ],
   "source": [
    "C = 3\n",
    "\n",
    "# loop desde la posición inicial hasta la última posición sin exceder el número de elementos de la secuencia\n",
    "for i in range(0, len(alfabeto)-C):\n",
    "    # clave original de la letra --> nueva clave;  letra original --> letra en mensaje cifrado\n",
    "    print i, '-->', i+C , ' es decir', alfabeto[i], '-->', alfabeto[i+C]"
   ]
  },
  {
   "cell_type": "markdown",
   "metadata": {},
   "source": [
    "### Paso2: loop de vuelta a empezar\n",
    "Ahora seguiremos con las posiciones restantes (aquellas que al sumarles la clave del cifrado superan el número de \n",
    "elementos de la secuencia) asignándoles de nuevo las posiciones iniciales. "
   ]
  },
  {
   "cell_type": "code",
   "execution_count": 9,
   "metadata": {
    "collapsed": false
   },
   "outputs": [
    {
     "name": "stdout",
     "output_type": "stream",
     "text": [
      "24 --> 0 ; es decir y --> a\n",
      "25 --> 1 ; es decir z --> b\n",
      "26 --> 2 ; es decir   --> c\n"
     ]
    }
   ],
   "source": [
    "C = 3\n",
    "\n",
    "# loop sobre las posiciones que exceden el número de elementos de la secuencia\n",
    "for i in range(len(alfabeto)-C, len(alfabeto)):\n",
    "    # clave original de la letra --> nueva clave;  letra original --> letra en mensaje cifrado\n",
    "    print i, '-->', i-len(alfabeto)+C, '; es decir', alfabeto[i], '-->', alfabeto[i-len(alfabeto)+C]"
   ]
  },
  {
   "cell_type": "markdown",
   "metadata": {},
   "source": [
    "### Paso3: crear el diccionario\n",
    "Ahora podemos unir los 2 loops anteriores en un diccionario que llamaremos *encriptador*"
   ]
  },
  {
   "cell_type": "code",
   "execution_count": 10,
   "metadata": {
    "collapsed": true
   },
   "outputs": [],
   "source": [
    "C = 3\n",
    "\n",
    "# Inicializar el diccionario\n",
    "encriptador = dict()\n",
    "\n",
    "# loop desde la posición inicial hasta la última posición sin exceder el número de elementos de la secuencia\n",
    "for i in range(0, len(alfabeto)-C):\n",
    "    # construir el diccionario: como clave la letra del alfabeto; como valor la nueva posición que le corresponde\n",
    "    encriptador[alfabeto[i]] = i+C\n",
    "    \n",
    "# loop sobre las las posiciones que exceden el número de elementos de la secuencia\n",
    "for i in range(len(alfabeto)-C, len(alfabeto)):\n",
    "    # actualizar el diccionario\n",
    "    encriptador[alfabeto[i]] = i-len(alfabeto)+C\n",
    "    "
   ]
  },
  {
   "cell_type": "code",
   "execution_count": 11,
   "metadata": {
    "collapsed": false
   },
   "outputs": [
    {
     "name": "stdout",
     "output_type": "stream",
     "text": [
      "{' ': 2, 'a': 3, 'c': 5, 'b': 4, 'e': 7, 'd': 6, 'g': 9, 'f': 8, 'i': 11, 'h': 10, 'k': 13, 'j': 12, 'm': 15, 'l': 14, 'o': 17, 'n': 16, 'q': 19, 'p': 18, 's': 21, 'r': 20, 'u': 23, 't': 22, 'w': 25, 'v': 24, 'y': 0, 'x': 26, 'z': 1}\n"
     ]
    }
   ],
   "source": [
    "# Imprimir 'encriptador'\n",
    "print(encriptador)"
   ]
  },
  {
   "cell_type": "markdown",
   "metadata": {},
   "source": [
    "### Paso4: cifrar el mensaje\n",
    "En este paso volvemos a hacer uso de las secuencias. A partir de un mensaje, se crea el mensaje cifrado indexando *alfabeto* con las nuevas posiciones que tiene cada letra y que se han generado con el diccionario *encriptador*."
   ]
  },
  {
   "cell_type": "code",
   "execution_count": 12,
   "metadata": {
    "collapsed": false
   },
   "outputs": [],
   "source": [
    "mensaje = 'bruto no es de fiar'\n",
    "\n",
    "# Inicializar una secuencia vacía y asignarla a la variable 'cifrado'\n",
    "cifrado = ''\n",
    "\n",
    "# loop sobre cada letra del mensaje\n",
    "for char in mensaje: \n",
    "    # actualizar 'cifrado' con la letra cifrada\n",
    "    cifrado += posicion[encriptador[char]]"
   ]
  },
  {
   "cell_type": "code",
   "execution_count": 13,
   "metadata": {
    "collapsed": false
   },
   "outputs": [
    {
     "data": {
      "text/plain": [
       "'euxwrcqrchvcghcildu'"
      ]
     },
     "execution_count": 13,
     "metadata": {},
     "output_type": "execute_result"
    }
   ],
   "source": [
    "cifrado"
   ]
  },
  {
   "cell_type": "markdown",
   "metadata": {
    "collapsed": true
   },
   "source": [
    "### Paso5: encapsulando el cifrado: funciones"
   ]
  },
  {
   "cell_type": "markdown",
   "metadata": {},
   "source": [
    "Una forma de que el código anterior quede más claro es mediante la **encapsulación en una función**. \n",
    "Además, una vez tengamos la función podremos llamarla tantas veces como mensajes queramos cifrar sin necesidad de volver a tener que escribir el código. "
   ]
  },
  {
   "cell_type": "code",
   "execution_count": 14,
   "metadata": {
    "collapsed": true
   },
   "outputs": [],
   "source": [
    "# Definir la función codificador_Cesar que tomará como variables el mensaje y la clave C\n",
    "def codificador_Cesar(mensaje, C):\n",
    "    \n",
    "    '''Devuelve el mensaje cifrado como cadena de texto'''\n",
    "    \n",
    "    \"\"\"\n",
    "    Esta función es el algoritmo de cifrado para codificar un mensaje.\n",
    "    \n",
    "    mensaje: cadena de texto que queremos cifrar. Debe contener únicamente letras en minúsculas y/o espacios.\n",
    "    C:       número entero que representa el desplazamiento que cada letra tiene en el nuevo mensaje.\n",
    "    \n",
    "    \"\"\"\n",
    "    \n",
    "    # Defensive Programming\n",
    "    # Confirmar que el mensaje contiene las letras esperadas (comprehension list)\n",
    "    assert (False not in [c in alfabeto for c in mensaje]) == True, \"El mensaje contiene letras no permitidas\"\n",
    "    \n",
    "    # Inicializar el diccionario\n",
    "    encriptador = dict()\n",
    "\n",
    "    # loop desde la posición inicial hasta la última posición sin exceder el número de elementos de la secuencia\n",
    "    for i in range(0, len(alfabeto)-C):\n",
    "        # construir el diccionario: clave, la letra del alfabeto; valor, la nueva posición que le corresponde\n",
    "        encriptador[alfabeto[i]] = i+C\n",
    "\n",
    "    # loop sobre las las posiciones que exceden el número de elementos de la secuencia\n",
    "    for i in range(len(alfabeto)-C, len(alfabeto)):\n",
    "        # actualizar el diccionario\n",
    "        encriptador[alfabeto[i]] = i-len(alfabeto)+C\n",
    "        \n",
    "    # Inicializar una secuencia vacía y asignarla a la variable 'cifrado'\n",
    "    cifrado = ''\n",
    "\n",
    "    # loop sobre cada letra del mensaje\n",
    "    for char in mensaje: \n",
    "        # actualizar 'cifrado' con la letra cifrada\n",
    "        cifrado += posicion[encriptador[char]]\n",
    "        \n",
    "    # Devolver 'cifrado'\n",
    "    return cifrado"
   ]
  },
  {
   "cell_type": "code",
   "execution_count": 16,
   "metadata": {
    "collapsed": false
   },
   "outputs": [
    {
     "name": "stdout",
     "output_type": "stream",
     "text": [
      "euxwrcqrchvcghcildu\n"
     ]
    }
   ],
   "source": [
    "# Cifrar el mensaje 'bruto no es de fiar' y asignarlo a la variable 'mensaje_cifrado'\n",
    "mensaje_cifrado = codificador_Cesar(\"bruto no es de fiar\", 3)\n",
    "\n",
    "# Imprimir 'mensaje_cifrado'\n",
    "print(mensaje_cifrado)"
   ]
  },
  {
   "cell_type": "markdown",
   "metadata": {},
   "source": [
    "<br>"
   ]
  },
  {
   "cell_type": "markdown",
   "metadata": {},
   "source": [
    "# Descifrando el mensaje: diccionarios y secuencias\n",
    "Como conocemos la clave C del cifrado (C = 3 en este ejemplo), será suficiente desplazarnos C unidades en sentido contrario (C = -3) para decodificar el mensaje. Una vez creado el algoritmo de cifrado, se procede casi de la misma forma para escribir el algoritmo de descifrado. "
   ]
  },
  {
   "cell_type": "code",
   "execution_count": 17,
   "metadata": {
    "collapsed": false
   },
   "outputs": [
    {
     "name": "stdout",
     "output_type": "stream",
     "text": [
      "3 --> 0  es decir d --> a\n",
      "4 --> 1  es decir e --> b\n",
      "5 --> 2  es decir f --> c\n",
      "6 --> 3  es decir g --> d\n",
      "7 --> 4  es decir h --> e\n",
      "8 --> 5  es decir i --> f\n",
      "9 --> 6  es decir j --> g\n",
      "10 --> 7  es decir k --> h\n",
      "11 --> 8  es decir l --> i\n",
      "12 --> 9  es decir m --> j\n",
      "13 --> 10  es decir n --> k\n",
      "14 --> 11  es decir o --> l\n",
      "15 --> 12  es decir p --> m\n",
      "16 --> 13  es decir q --> n\n",
      "17 --> 14  es decir r --> o\n",
      "18 --> 15  es decir s --> p\n",
      "19 --> 16  es decir t --> q\n",
      "20 --> 17  es decir u --> r\n",
      "21 --> 18  es decir v --> s\n",
      "22 --> 19  es decir w --> t\n",
      "23 --> 20  es decir x --> u\n",
      "24 --> 21  es decir y --> v\n",
      "25 --> 22  es decir z --> w\n",
      "26 --> 23  es decir   --> x\n"
     ]
    }
   ],
   "source": [
    "C = -3\n",
    "for i in range(0-C,len(alfabeto)) : \n",
    "    print i,\"-->\", C+i, \" es decir\", alfabeto[i], \"-->\", alfabeto[C+i]"
   ]
  },
  {
   "cell_type": "code",
   "execution_count": 18,
   "metadata": {
    "collapsed": false
   },
   "outputs": [
    {
     "name": "stdout",
     "output_type": "stream",
     "text": [
      "0 24 ; es decir a --> y\n",
      "1 25 ; es decir b --> z\n",
      "2 26 ; es decir c -->  \n"
     ]
    }
   ],
   "source": [
    "for i in range(0, 0-C):\n",
    "    print i, i+C+len(alfabeto), \"; es decir\", alfabeto[i], \"-->\", alfabeto[i+C+len(alfabeto)]"
   ]
  },
  {
   "cell_type": "code",
   "execution_count": 19,
   "metadata": {
    "collapsed": true
   },
   "outputs": [],
   "source": [
    "def decodificador_Cesar(mensaje, C):\n",
    "     \n",
    "    '''Devuelve el mensaje descifrado como cadena de texto'''\n",
    "    \n",
    "    \"\"\"\n",
    "    Esta función es el algoritmo de descifrado para decodificar un mensaje.\n",
    "    \n",
    "    mensaje: cadena de texto que queremos descifrar. Debe contener únicamente letras en minúsculas y/o espacios.\n",
    "    C:       número entero que representa el desplazamiento que cada letra tiene en el nuevo mensaje.\n",
    "    \n",
    "    \"\"\"\n",
    "    \n",
    "    # Crear diccionario 'encriptador'\n",
    "    encriptador = dict()\n",
    "    \n",
    "    for i in range(0-C,len(alfabeto)) : \n",
    "        encriptador[alfabeto[i]] = C+i\n",
    "    for i in range(0, 0-C):\n",
    "        encriptador[alfabeto[i]] = i+C+len(alfabeto)\n",
    "        \n",
    "    # Inicializar la secuencia vacía 'descifrado'\n",
    "    descifrado = ''\n",
    "\n",
    "    # loop sobre el mensaje y actualización de 'descifrado'\n",
    "    for char in mensaje: \n",
    "        # actualizar 'cifrado' con la letra cifrada\n",
    "        descifrado += posicion[encriptador[char]]    \n",
    "    \n",
    "    # Devolver 'descifrado'\n",
    "    return descifrado"
   ]
  },
  {
   "cell_type": "code",
   "execution_count": 20,
   "metadata": {
    "collapsed": false
   },
   "outputs": [
    {
     "data": {
      "text/plain": [
       "'bruto no es de fiar'"
      ]
     },
     "execution_count": 20,
     "metadata": {},
     "output_type": "execute_result"
    }
   ],
   "source": [
    "decodificador_Cesar(mensaje_cifrado, -3)"
   ]
  },
  {
   "cell_type": "markdown",
   "metadata": {},
   "source": [
    "<br>"
   ]
  },
  {
   "cell_type": "markdown",
   "metadata": {},
   "source": [
    "Ahora podemos llamar a las funciones tantas veces como mensajes queramos hacer llegar a los generales."
   ]
  },
  {
   "cell_type": "code",
   "execution_count": 21,
   "metadata": {
    "collapsed": true
   },
   "outputs": [],
   "source": [
    "mensaje = 'en semana santa veremos espartaco'"
   ]
  },
  {
   "cell_type": "code",
   "execution_count": 22,
   "metadata": {
    "collapsed": false
   },
   "outputs": [
    {
     "data": {
      "text/plain": [
       "'jsexjrfsfexfsyfe jwjrtxejxufwyfht'"
      ]
     },
     "execution_count": 22,
     "metadata": {},
     "output_type": "execute_result"
    }
   ],
   "source": [
    "codificador_Cesar(mensaje, 5)"
   ]
  },
  {
   "cell_type": "code",
   "execution_count": 23,
   "metadata": {
    "collapsed": false
   },
   "outputs": [
    {
     "data": {
      "text/plain": [
       "'en semana santa veremos espartaco'"
      ]
     },
     "execution_count": 23,
     "metadata": {},
     "output_type": "execute_result"
    }
   ],
   "source": [
    "decodificador_Cesar(codificador_Cesar(mensaje, 5), -5)"
   ]
  },
  {
   "cell_type": "markdown",
   "metadata": {},
   "source": [
    "<br>"
   ]
  },
  {
   "cell_type": "markdown",
   "metadata": {},
   "source": [
    "*Ave Caesar, Pythonuri te salutant*."
   ]
  }
 ],
 "metadata": {
  "kernelspec": {
   "display_name": "Python 2",
   "language": "python",
   "name": "python2"
  },
  "language_info": {
   "codemirror_mode": {
    "name": "ipython",
    "version": 2
   },
   "file_extension": ".py",
   "mimetype": "text/x-python",
   "name": "python",
   "nbconvert_exporter": "python",
   "pygments_lexer": "ipython2",
   "version": "2.7.11"
  }
 },
 "nbformat": 4,
 "nbformat_minor": 0
}
