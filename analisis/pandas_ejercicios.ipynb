{
 "cells": [
  {
   "cell_type": "markdown",
   "metadata": {},
   "source": [
    "# Ejercicios utilizando Pandas\n",
    "\n",
    "Pandas dispone de una excelente colección de [ejercicios](https://github.com/guipsamora/pandas_exercises).\n",
    "A continuación incluyo una selección.\n",
    "\n",
    "## Ejercicios de Guilherme Samora\n",
    "\n",
    "### Ejercicios introductorios\n",
    "\n",
    "  - [Chipotle](https://github.com/guipsamora/pandas_exercises/blob/master/01_Getting_%26_Knowing_Your_Data/Chipotle/Solutions.ipynb) ([Solución](https://github.com/guipsamora/pandas_exercises/blob/master/01_Getting_%26_Knowing_Your_Data/Chipotle/Exercise_with_Solutions.ipynb))\n",
    "  - [Occupation](https://github.com/guipsamora/pandas_exercises/blob/master/01_Getting_%26_Knowing_Your_Data/Occupation/Solutions.ipynb) ([Solución](https://github.com/guipsamora/pandas_exercises/blob/master/01_Getting_%26_Knowing_Your_Data/Occupation/Exercise_with_Solution.ipynb))\n",
    "\n",
    "### Filtrado y ordenación\n",
    "\n",
    "  - [Chipotle](https://github.com/guipsamora/pandas_exercises/blob/master/02_Filtering_%26_Sorting/Chipotle/Solutions.ipynb) ([Solución](https://github.com/guipsamora/pandas_exercises/blob/master/02_Filtering_%26_Sorting/Chipotle/Exercises_with_solutions.ipynb))\n",
    "  - [Euro 12](https://github.com/guipsamora/pandas_exercises/blob/master/02_Filtering_%26_Sorting/Euro12/Solutions.ipynb) ([Solución](https://github.com/guipsamora/pandas_exercises/blob/master/02_Filtering_%26_Sorting/Euro12/Exercises_with_Solutions.ipynb))\n",
    "  - [Fictional army](https://github.com/guipsamora/pandas_exercises/blob/master/02_Filtering_%26_Sorting/Fictional%20Army/Solutions.ipynb) ([Solución](https://github.com/guipsamora/pandas_exercises/blob/master/02_Filtering_%26_Sorting/Fictional%20Army/Exercise_with_solutions.ipynb))\n",
    "\n",
    "### Agrupación\n",
    "\n",
    "  - [Consumo de alcohol](https://github.com/guipsamora/pandas_exercises/blob/master/03_Grouping/Alcohol_Consumption/Solutions.ipynb) ([Solución](https://github.com/guipsamora/pandas_exercises/blob/master/03_Grouping/Alcohol_Consumption/Exercise_with_solutions.ipynb))\n",
    "  - [Ocupaciones](https://github.com/guipsamora/pandas_exercises/blob/master/03_Grouping/Occupation/Solutions.ipynb) ([Solución](https://github.com/guipsamora/pandas_exercises/blob/master/03_Grouping/Occupation/Exercises_with_solutions.ipynb))\n",
    "\n",
    "### Estadísticas\n",
    "  - [Nombres](https://github.com/guipsamora/pandas_exercises/blob/master/06_Stats/US_Baby_Names/Solutions.ipynb) ([Solución](https://github.com/guipsamora/pandas_exercises/blob/master/06_Stats/US_Baby_Names/Exercises_with_solutions.ipynb))\n",
    "  - [Vientos](https://github.com/guipsamora/pandas_exercises/blob/master/06_Stats/Wind_Stats/Solutions.ipynb) ([Solución](https://github.com/guipsamora/pandas_exercises/blob/master/06_Stats/Wind_Stats/Exercises_with_solutions.ipynb))\n",
    "  \n",
    "### Visualizaciones\n",
    "\n",
    "  - [Chipotl](https://github.com/guipsamora/pandas_exercises/blob/master/07_Visualization/Chipotle/Solutions.ipynb) ([Solución](https://github.com/guipsamora/pandas_exercises/blob/master/07_Visualization/Chipotle/Exercise_with_Solutions.ipynb))\n",
    "  - [Retail](https://github.com/guipsamora/pandas_exercises/blob/master/07_Visualization/Online_Retail/Solutions.ipynb) ([Solución](https://github.com/guipsamora/pandas_exercises/blob/master/07_Visualization/Online_Retail/Exercises_with_solutions_code.ipynb))\n",
    "  - [Tips](https://github.com/guipsamora/pandas_exercises/blob/master/07_Visualization/Tips/Solutions.ipynb) ([Solución](https://github.com/guipsamora/pandas_exercises/blob/master/07_Visualization/Tips/Exercises_with_code_and_solutions.ipynb))\n",
    "  - [Titanic](https://github.com/guipsamora/pandas_exercises/blob/master/07_Visualization/Titanic_Desaster/Solutions.ipynb) ([Solución](https://github.com/guipsamora/pandas_exercises/blob/master/07_Visualization/Titanic_Desaster/Exercises_code_with_solutions.ipynb))\n",
    "\n",
    "## Más ejercicios\n",
    "\n",
    "  - [La importancia de lavarse las manos](larvarse_las_manos.ipynb)"
   ]
  },
  {
   "cell_type": "code",
   "execution_count": null,
   "metadata": {},
   "outputs": [],
   "source": []
  }
 ],
 "metadata": {
  "kernelspec": {
   "display_name": "Python 3",
   "language": "python",
   "name": "python3"
  },
  "language_info": {
   "codemirror_mode": {
    "name": "ipython",
    "version": 3
   },
   "file_extension": ".py",
   "mimetype": "text/x-python",
   "name": "python",
   "nbconvert_exporter": "python",
   "pygments_lexer": "ipython3",
   "version": "3.7.3rc1"
  }
 },
 "nbformat": 4,
 "nbformat_minor": 2
}
