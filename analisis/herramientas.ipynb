{
 "cells": [
  {
   "cell_type": "markdown",
   "metadata": {},
   "source": [
    "# Herramientas para análisis de datos en Python\n",
    "\n",
    "Python ofrece un gran conjunto de librerías orientadas a facilitar el análisis de datos, siendo algunas de las principales: [Numpy](http://www.numpy.org/), [Pandas](https://pandas.pydata.org/), [SciPy](https://www.scipy.org/), [scikit-learn](http://scikit-learn.org/), [matplotlib](https://matplotlib.org/) y [seaborn](https://seaborn.pydata.org/).\n",
    "\n",
    "## Numpy\n",
    "\n",
    "[Numpy](http://www.numpy.org/) es una librería que ofrece soporte para [matrices](https://docs.scipy.org/doc/numpy/reference/arrays.html) multidimensionales así como algunas [funciones](https://docs.scipy.org/doc/numpy/reference/routines.html) para trabajar con estas matrices.\n",
    "\n",
    "Numpy es una librería muy eficiente escrita en C y Fortran y los cálculos realizados utilizando su infraestructura suelen ser cientos de veces más rápidos que los realizados utilizando bucles en Python.\n",
    "Numpy, además, constituye la base del resto de herramientas de análisis de datos en Python.\n",
    "\n",
    "## Pandas\n",
    "\n",
    "[Pandas](https://pandas.pydata.org/) ha sido creada para realizar análisis y manupulación de datos con un interfaz de más alto nivel que Numpy.\n",
    "\n",
    "Pandas es ampliamente utilizada para realizar análisis exploratorios de los datos, incluyendo estadísticas básicas y visualizaciones gráficas.\n",
    "Estas tareas pueden hacerse sobre la propia tabla o sobre tablas dinámicas generadas a partir de ésta utilizando las funciones de agrupación de Pandas.\n",
    "\n",
    "Pandas, además, tiene un amplio soporte para datos faltantes.\n",
    "\n",
    "Además, resulta ideal para analizar datos tabulares y tiene un gran soporte para series temporales.\n",
    "\n",
    "Pandas está construido sobre Numpy por lo que se pueden utilizar sus estructuras de datos dentro de las funciones de Numpy y SciPy.\n",
    "\n",
    "## matplotlib y seaborn\n",
    "\n",
    "[matplotlib](https://matplotlib.org/) y [seaborn](https://seaborn.pydata.org/) permiten crear gráficas en Python y tienen soporte para las estructuras de datos de Numpy y Pandas.\n",
    "\n",
    "## SciPy\n",
    "\n",
    "[SciPy](https://www.scipy.org/) ofrece una colección de funciones y algoritmos matemáticos para hacer:\n",
    "    - regresión lineal y no lineal,\n",
    "    - integración,\n",
    "    - interpolación\n",
    "    - álgebra lineal,\n",
    "    - transformadas de Fourier,\n",
    "    - optimización numérica y\n",
    "    - procesamiento de señales.\n",
    "\n",
    "## Scikit-learn\n",
    "\n",
    "[scikit-learn](http://scikit-learn.org/) es la librería de referencia para hacer aprendizaje automático en Python.\n",
    "\n",
    "## TensorFlow\n",
    "\n",
    "[TensorFlow], la librería de referencia para trabajar con redes neuronales tiene una API para Python."
   ]
  },
  {
   "cell_type": "code",
   "execution_count": null,
   "metadata": {},
   "outputs": [],
   "source": []
  }
 ],
 "metadata": {
  "kernelspec": {
   "display_name": "Python 3",
   "language": "python",
   "name": "python3"
  },
  "language_info": {
   "codemirror_mode": {
    "name": "ipython",
    "version": 3
   },
   "file_extension": ".py",
   "mimetype": "text/x-python",
   "name": "python",
   "nbconvert_exporter": "python",
   "pygments_lexer": "ipython3",
   "version": "3.7.3rc1"
  }
 },
 "nbformat": 4,
 "nbformat_minor": 2
}
