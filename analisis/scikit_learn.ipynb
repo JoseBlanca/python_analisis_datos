{
 "cells": [
  {
   "cell_type": "markdown",
   "metadata": {},
   "source": [
    "# Aprendizaje automático con scikit-learn\n",
    "\n",
    "[scikit-learn](http://scikit-learn.org) es una librería que ofrece una amplia funcionalidad tanto para aprendizaje [supervisado](http://scikit-learn.org/stable/supervised_learning.html#supervised-learning) (clasificación y regresión) como para [no supervisado](http://scikit-learn.org/stable/unsupervised_learning.html#unsupervised-learning) ([clustering](http://scikit-learn.org/stable/modules/clustering.html)).\n",
    "\n",
    "## Ejemplo clasificación supervisada con SVM\n",
    "\n",
    "Vamos a clasificar los datos iris utilizando [Support Vector Machines](http://scikit-learn.org/stable/modules/svm.html)\n"
   ]
  },
  {
   "cell_type": "code",
   "execution_count": 45,
   "metadata": {},
   "outputs": [],
   "source": [
    "import numpy\n",
    "import matplotlib.pyplot as plt\n",
    "from sklearn import svm, datasets\n",
    "import random"
   ]
  },
  {
   "cell_type": "code",
   "execution_count": 54,
   "metadata": {},
   "outputs": [],
   "source": [
    "iris = datasets.load_iris()\n",
    "# Usamos las dos primeras columnas para hacerlo más difícil\n",
    "datos = iris.data[:, :2]\n",
    "clases = iris.target\n",
    "\n",
    "# Ordenamos los datos de entrada al azar\n",
    "indices = list(range(clases.shape[0]))\n",
    "random.shuffle(indices)\n",
    "datos = datos[indices,]\n",
    "clases = clases[indices]\n",
    "\n",
    "n_datos_training = int(datos.shape[0] * 0.75)\n",
    "datos_training = datos[:n_datos_training, ]\n",
    "clases_training = clases[:n_datos_training]\n",
    "datos_test = datos[n_datos_training:, ]\n",
    "clases_test = clases[n_datos_training:]"
   ]
  },
  {
   "cell_type": "markdown",
   "metadata": {},
   "source": [
    "Definimos y entrenamos los modelos."
   ]
  },
  {
   "cell_type": "code",
   "execution_count": 58,
   "metadata": {},
   "outputs": [
    {
     "name": "stdout",
     "output_type": "stream",
     "text": [
      "SVC with linear kernel 76.3157894737\n",
      "LinearSVC (linear kernel) 76.3157894737\n",
      "SVC with RBF kernel 76.3157894737\n",
      "SVC with polynomial (degree 3) kernel 76.3157894737\n"
     ]
    }
   ],
   "source": [
    "C = 1.0  # SVM regularization parameter\n",
    "titles = ('SVC with linear kernel',\n",
    "          'LinearSVC (linear kernel)',\n",
    "          'SVC with RBF kernel',\n",
    "          'SVC with polynomial (degree 3) kernel')\n",
    "models = (svm.SVC(kernel='linear', C=C),\n",
    "          svm.LinearSVC(C=C),\n",
    "          svm.SVC(kernel='rbf', gamma=0.7, C=C),\n",
    "          svm.SVC(kernel='poly', degree=3, C=C))\n",
    "\n",
    "for name, clasificador in zip(titles, models):\n",
    "    clasificador.fit(datos_training, clases_training)\n",
    "    clases_test_predichas = clf.predict(datos_test)\n",
    "    n_aciertos = numpy.sum(clases_test_predichas == clases_test)\n",
    "    porcentaje_acierto = n_aciertos / clases_test.shape[0] * 100\n",
    "    print(name, porcentaje_acierto)"
   ]
  },
  {
   "cell_type": "markdown",
   "metadata": {},
   "source": [
    "## Clasificación no supervisada con K-means\n",
    "\n",
    "Vamos a clasificar los datos iris en tres grupos con [K-means](http://scikit-learn.org/stable/modules/generated/sklearn.cluster.KMeans.html).\n",
    "\n"
   ]
  },
  {
   "cell_type": "code",
   "execution_count": 68,
   "metadata": {},
   "outputs": [
    {
     "name": "stdout",
     "output_type": "stream",
     "text": [
      "defaultdict(<class 'collections.Counter'>, {0: Counter({0: 50}), 1: Counter({1: 48, 2: 2}), 2: Counter({2: 36, 1: 14})})\n"
     ]
    }
   ],
   "source": [
    "from sklearn import datasets\n",
    "from sklearn.cluster import KMeans\n",
    "from collections import defaultdict, Counter\n",
    "\n",
    "iris = datasets.load_iris()\n",
    "datos = iris.data\n",
    "clases_reales = iris.target\n",
    "\n",
    "# Ordenamos los datos de entrada al azar\n",
    "indices = list(range(clases.shape[0]))\n",
    "random.shuffle(indices)\n",
    "datos = datos[indices,]\n",
    "clases_reales = clases_reales[indices]\n",
    "\n",
    "\n",
    "def comparar_clasificaciones(clasificacion1, clasificacion2):\n",
    "    '''función para comparar las clasificaciones'''\n",
    "    tabla_comparacion = defaultdict(Counter)\n",
    "    for clase1, clase2 in zip(clasificacion1, clasificacion2):\n",
    "        tabla_comparacion[clase1][clase2] += 1\n",
    "    return tabla_comparacion\n",
    "\n",
    "# Creamos los clusters\n",
    "agrupacion = KMeans(n_clusters=3, random_state=0).fit(datos)\n",
    "clases_predichas = agrupacion.labels_\n",
    "tabla_comparacion = comparar_clasificaciones(clases_reales, clases_predichas)\n",
    "\n",
    "print(tabla_comparacion)\n"
   ]
  },
  {
   "cell_type": "markdown",
   "metadata": {},
   "source": [
    "## Análisis de componentes principales (PCA)\n",
    "\n",
    "Podemos utilizar scikit-learn para hacer [PCA](http://scikit-learn.org/stable/modules/generated/sklearn.decomposition.PCA.html). scikit-learn también incluye otros métodos de [descomposición](http://scikit-learn.org/stable/modules/decomposition.html) en componentes."
   ]
  },
  {
   "cell_type": "code",
   "execution_count": 85,
   "metadata": {},
   "outputs": [
    {
     "data": {
      "text/plain": [
       "<matplotlib.text.Text at 0x7f67de9cc198>"
      ]
     },
     "execution_count": 85,
     "metadata": {},
     "output_type": "execute_result"
    },
    {
     "data": {
      "image/png": "[encoded data removed]",
      "text/plain": [
       "<matplotlib.figure.Figure at 0x7f67de8a8588>"
      ]
     },
     "metadata": {},
     "output_type": "display_data"
    }
   ],
   "source": [
    "%matplotlib inline\n",
    "\n",
    "from sklearn import datasets\n",
    "from sklearn import decomposition\n",
    "import matplotlib.pyplot as plt\n",
    "\n",
    "iris = datasets.load_iris()\n",
    "datos = iris.data\n",
    "especies = iris.target\n",
    "\n",
    "pca = decomposition.PCA(n_components=2)\n",
    "pca.fit(datos)\n",
    "proyeccion = pca.transform(datos)\n",
    "varianza_explicada = pca.explained_variance_ratio_\n",
    "\n",
    "plt.scatter(proyeccion[:, 0], proyeccion[:, 1], c=especies)\n",
    "plt.xlabel('Componente 1: {:.1f}%'.format(varianza_explicada[0] * 100))\n",
    "plt.ylabel('Componente 2: {:.1f}%'.format(varianza_explicada[1] * 100))"
   ]
  },
  {
   "cell_type": "code",
   "execution_count": null,
   "metadata": {},
   "outputs": [],
   "source": []
  }
 ],
 "metadata": {
  "kernelspec": {
   "display_name": "Python 3",
   "language": "python",
   "name": "python3"
  },
  "language_info": {
   "codemirror_mode": {
    "name": "ipython",
    "version": 3
   },
   "file_extension": ".py",
   "mimetype": "text/x-python",
   "name": "python",
   "nbconvert_exporter": "python",
   "pygments_lexer": "ipython3",
   "version": "3.5.1+"
  }
 },
 "nbformat": 4,
 "nbformat_minor": 2
}
